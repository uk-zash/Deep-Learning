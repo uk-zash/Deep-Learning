{
 "cells": [
  {
   "cell_type": "code",
   "execution_count": 1,
   "metadata": {},
   "outputs": [],
   "source": [
    "import numpy as np\n",
    "import pandas as pd"
   ]
  },
  {
   "cell_type": "code",
   "execution_count": 2,
   "metadata": {},
   "outputs": [],
   "source": [
    "dataset = pd.read_csv(\"diabetes.csv\")"
   ]
  },
  {
   "cell_type": "code",
   "execution_count": 3,
   "metadata": {},
   "outputs": [
    {
     "data": {
      "text/html": [
       "<div>\n",
       "<style scoped>\n",
       "    .dataframe tbody tr th:only-of-type {\n",
       "        vertical-align: middle;\n",
       "    }\n",
       "\n",
       "    .dataframe tbody tr th {\n",
       "        vertical-align: top;\n",
       "    }\n",
       "\n",
       "    .dataframe thead th {\n",
       "        text-align: right;\n",
       "    }\n",
       "</style>\n",
       "<table border=\"1\" class=\"dataframe\">\n",
       "  <thead>\n",
       "    <tr style=\"text-align: right;\">\n",
       "      <th></th>\n",
       "      <th>Pregnancies</th>\n",
       "      <th>Glucose</th>\n",
       "      <th>BloodPressure</th>\n",
       "      <th>SkinThickness</th>\n",
       "      <th>Insulin</th>\n",
       "      <th>BMI</th>\n",
       "      <th>DiabetesPedigreeFunction</th>\n",
       "      <th>Age</th>\n",
       "      <th>Outcome</th>\n",
       "    </tr>\n",
       "  </thead>\n",
       "  <tbody>\n",
       "    <tr>\n",
       "      <th>729</th>\n",
       "      <td>2</td>\n",
       "      <td>92</td>\n",
       "      <td>52</td>\n",
       "      <td>0</td>\n",
       "      <td>0</td>\n",
       "      <td>30.1</td>\n",
       "      <td>0.141</td>\n",
       "      <td>22</td>\n",
       "      <td>0</td>\n",
       "    </tr>\n",
       "    <tr>\n",
       "      <th>450</th>\n",
       "      <td>1</td>\n",
       "      <td>82</td>\n",
       "      <td>64</td>\n",
       "      <td>13</td>\n",
       "      <td>95</td>\n",
       "      <td>21.2</td>\n",
       "      <td>0.415</td>\n",
       "      <td>23</td>\n",
       "      <td>0</td>\n",
       "    </tr>\n",
       "    <tr>\n",
       "      <th>623</th>\n",
       "      <td>0</td>\n",
       "      <td>94</td>\n",
       "      <td>70</td>\n",
       "      <td>27</td>\n",
       "      <td>115</td>\n",
       "      <td>43.5</td>\n",
       "      <td>0.347</td>\n",
       "      <td>21</td>\n",
       "      <td>0</td>\n",
       "    </tr>\n",
       "    <tr>\n",
       "      <th>321</th>\n",
       "      <td>3</td>\n",
       "      <td>112</td>\n",
       "      <td>74</td>\n",
       "      <td>30</td>\n",
       "      <td>0</td>\n",
       "      <td>31.6</td>\n",
       "      <td>0.197</td>\n",
       "      <td>25</td>\n",
       "      <td>1</td>\n",
       "    </tr>\n",
       "    <tr>\n",
       "      <th>368</th>\n",
       "      <td>3</td>\n",
       "      <td>81</td>\n",
       "      <td>86</td>\n",
       "      <td>16</td>\n",
       "      <td>66</td>\n",
       "      <td>27.5</td>\n",
       "      <td>0.306</td>\n",
       "      <td>22</td>\n",
       "      <td>0</td>\n",
       "    </tr>\n",
       "  </tbody>\n",
       "</table>\n",
       "</div>"
      ],
      "text/plain": [
       "     Pregnancies  Glucose  BloodPressure  SkinThickness  Insulin   BMI  \\\n",
       "729            2       92             52              0        0  30.1   \n",
       "450            1       82             64             13       95  21.2   \n",
       "623            0       94             70             27      115  43.5   \n",
       "321            3      112             74             30        0  31.6   \n",
       "368            3       81             86             16       66  27.5   \n",
       "\n",
       "     DiabetesPedigreeFunction  Age  Outcome  \n",
       "729                     0.141   22        0  \n",
       "450                     0.415   23        0  \n",
       "623                     0.347   21        0  \n",
       "321                     0.197   25        1  \n",
       "368                     0.306   22        0  "
      ]
     },
     "execution_count": 3,
     "metadata": {},
     "output_type": "execute_result"
    }
   ],
   "source": [
    "dataset.sample(5)"
   ]
  },
  {
   "cell_type": "code",
   "execution_count": 4,
   "metadata": {},
   "outputs": [
    {
     "name": "stdout",
     "output_type": "stream",
     "text": [
      "<class 'pandas.core.frame.DataFrame'>\n",
      "RangeIndex: 768 entries, 0 to 767\n",
      "Data columns (total 9 columns):\n",
      " #   Column                    Non-Null Count  Dtype  \n",
      "---  ------                    --------------  -----  \n",
      " 0   Pregnancies               768 non-null    int64  \n",
      " 1   Glucose                   768 non-null    int64  \n",
      " 2   BloodPressure             768 non-null    int64  \n",
      " 3   SkinThickness             768 non-null    int64  \n",
      " 4   Insulin                   768 non-null    int64  \n",
      " 5   BMI                       768 non-null    float64\n",
      " 6   DiabetesPedigreeFunction  768 non-null    float64\n",
      " 7   Age                       768 non-null    int64  \n",
      " 8   Outcome                   768 non-null    int64  \n",
      "dtypes: float64(2), int64(7)\n",
      "memory usage: 54.1 KB\n"
     ]
    }
   ],
   "source": [
    "dataset.info()"
   ]
  },
  {
   "cell_type": "code",
   "execution_count": 7,
   "metadata": {},
   "outputs": [
    {
     "data": {
      "text/plain": [
       "Pregnancies                 0.221898\n",
       "Glucose                     0.466581\n",
       "BloodPressure               0.065068\n",
       "SkinThickness               0.074752\n",
       "Insulin                     0.130548\n",
       "BMI                         0.292695\n",
       "DiabetesPedigreeFunction    0.173844\n",
       "Age                         0.238356\n",
       "Outcome                     1.000000\n",
       "dtype: float64"
      ]
     },
     "execution_count": 7,
     "metadata": {},
     "output_type": "execute_result"
    }
   ],
   "source": [
    "dataset.corrwith(dataset[\"Outcome\"])"
   ]
  },
  {
   "cell_type": "code",
   "execution_count": 9,
   "metadata": {},
   "outputs": [],
   "source": [
    "x = dataset.iloc[: , :-1].values\n",
    "y = dataset.iloc[: , -1].values\n",
    "\n"
   ]
  },
  {
   "cell_type": "code",
   "execution_count": 10,
   "metadata": {},
   "outputs": [],
   "source": [
    "from sklearn.preprocessing import StandardScaler\n",
    "\n",
    "sc = StandardScaler()\n",
    "\n",
    "x = sc.fit_transform(x)"
   ]
  },
  {
   "cell_type": "code",
   "execution_count": 12,
   "metadata": {},
   "outputs": [
    {
     "data": {
      "text/plain": [
       "(768, 8)"
      ]
     },
     "execution_count": 12,
     "metadata": {},
     "output_type": "execute_result"
    }
   ],
   "source": [
    "x.shape"
   ]
  },
  {
   "cell_type": "code",
   "execution_count": 14,
   "metadata": {},
   "outputs": [],
   "source": [
    "from sklearn.model_selection import train_test_split\n",
    "X_train ,X_test , y_train , y_test = train_test_split(x , y , test_size=0.2 , random_state=1)"
   ]
  },
  {
   "cell_type": "code",
   "execution_count": 16,
   "metadata": {},
   "outputs": [
    {
     "data": {
      "text/plain": [
       "(614, 8)"
      ]
     },
     "execution_count": 16,
     "metadata": {},
     "output_type": "execute_result"
    }
   ],
   "source": [
    "X_train.shape"
   ]
  },
  {
   "cell_type": "code",
   "execution_count": 61,
   "metadata": {},
   "outputs": [],
   "source": [
    "import tensorflow\n",
    "from tensorflow import keras\n",
    "from keras import Sequential\n",
    "from keras.layers import Dense , Dropout\n",
    "\n",
    "\n"
   ]
  },
  {
   "cell_type": "code",
   "execution_count": 21,
   "metadata": {},
   "outputs": [],
   "source": [
    "model = Sequential()\n",
    "\n",
    "model.add(Dense(32 , activation=\"relu\" , input_dim = 8))\n",
    "model.add(Dense(1 , activation=\"sigmoid\"))\n",
    "\n",
    "model.compile(optimizer=\"Adam\" , loss = \"binary_crossentropy\" , metrics=[\"accuracy\"])"
   ]
  },
  {
   "cell_type": "code",
   "execution_count": 22,
   "metadata": {},
   "outputs": [
    {
     "name": "stdout",
     "output_type": "stream",
     "text": [
      "Model: \"sequential_1\"\n",
      "_________________________________________________________________\n",
      " Layer (type)                Output Shape              Param #   \n",
      "=================================================================\n",
      " dense_2 (Dense)             (None, 32)                288       \n",
      "                                                                 \n",
      " dense_3 (Dense)             (None, 1)                 33        \n",
      "                                                                 \n",
      "=================================================================\n",
      "Total params: 321 (1.25 KB)\n",
      "Trainable params: 321 (1.25 KB)\n",
      "Non-trainable params: 0 (0.00 Byte)\n",
      "_________________________________________________________________\n"
     ]
    }
   ],
   "source": [
    "model.summary()"
   ]
  },
  {
   "cell_type": "code",
   "execution_count": 23,
   "metadata": {},
   "outputs": [
    {
     "name": "stdout",
     "output_type": "stream",
     "text": [
      "Epoch 1/10\n",
      "20/20 [==============================] - 1s 11ms/step - loss: 0.7469 - accuracy: 0.4772 - val_loss: 0.7006 - val_accuracy: 0.5260\n",
      "Epoch 2/10\n",
      "20/20 [==============================] - 0s 3ms/step - loss: 0.6737 - accuracy: 0.6042 - val_loss: 0.6376 - val_accuracy: 0.6429\n",
      "Epoch 3/10\n",
      "20/20 [==============================] - 0s 3ms/step - loss: 0.6235 - accuracy: 0.6938 - val_loss: 0.5892 - val_accuracy: 0.7273\n",
      "Epoch 4/10\n",
      "20/20 [==============================] - 0s 3ms/step - loss: 0.5860 - accuracy: 0.7052 - val_loss: 0.5563 - val_accuracy: 0.7662\n",
      "Epoch 5/10\n",
      "20/20 [==============================] - 0s 3ms/step - loss: 0.5596 - accuracy: 0.7378 - val_loss: 0.5316 - val_accuracy: 0.7597\n",
      "Epoch 6/10\n",
      "20/20 [==============================] - 0s 4ms/step - loss: 0.5394 - accuracy: 0.7443 - val_loss: 0.5132 - val_accuracy: 0.7597\n",
      "Epoch 7/10\n",
      "20/20 [==============================] - 0s 3ms/step - loss: 0.5233 - accuracy: 0.7557 - val_loss: 0.4984 - val_accuracy: 0.7792\n",
      "Epoch 8/10\n",
      "20/20 [==============================] - 0s 4ms/step - loss: 0.5100 - accuracy: 0.7573 - val_loss: 0.4875 - val_accuracy: 0.7597\n",
      "Epoch 9/10\n",
      "20/20 [==============================] - 0s 4ms/step - loss: 0.4991 - accuracy: 0.7606 - val_loss: 0.4786 - val_accuracy: 0.7597\n",
      "Epoch 10/10\n",
      "20/20 [==============================] - 0s 4ms/step - loss: 0.4914 - accuracy: 0.7638 - val_loss: 0.4715 - val_accuracy: 0.7662\n"
     ]
    }
   ],
   "source": [
    "history = model.fit(X_train , y_train , epochs = 10 ,batch_size=32 ,  validation_data = (X_test , y_test)  )"
   ]
  },
  {
   "cell_type": "code",
   "execution_count": 29,
   "metadata": {},
   "outputs": [
    {
     "data": {
      "image/png": "[encoded data removed]",
      "text/plain": [
       "<Figure size 640x480 with 1 Axes>"
      ]
     },
     "metadata": {},
     "output_type": "display_data"
    }
   ],
   "source": [
    "import matplotlib.pyplot as plt\n",
    "\n",
    "# Assuming `history` is the History object returned by `model.fit()`\n",
    "plt.plot(history.history[\"val_accuracy\"], label=\"Validation Accuracy\", linestyle='--')\n",
    "plt.plot(history.history[\"accuracy\"], label=\"Training Accuracy\")\n",
    "\n",
    "# Adding title and labels\n",
    "plt.title(\"Model Accuracy\")\n",
    "plt.xlabel(\"Epoch\")\n",
    "plt.ylabel(\"Accuracy\")\n",
    "\n",
    "# Adding a legend to differentiate between training and validation plots\n",
    "plt.legend()\n",
    "\n",
    "# Display the plot\n",
    "plt.show()\n"
   ]
  },
  {
   "cell_type": "code",
   "execution_count": 31,
   "metadata": {},
   "outputs": [
    {
     "name": "stdout",
     "output_type": "stream",
     "text": [
      "Collecting keras-tuner\n",
      "  Downloading keras_tuner-1.4.7-py3-none-any.whl.metadata (5.4 kB)\n",
      "Requirement already satisfied: keras in c:\\users\\umark\\appdata\\local\\packages\\pythonsoftwarefoundation.python.3.11_qbz5n2kfra8p0\\localcache\\local-packages\\python311\\site-packages (from keras-tuner) (2.13.1)\n",
      "Requirement already satisfied: packaging in c:\\users\\umark\\appdata\\local\\packages\\pythonsoftwarefoundation.python.3.11_qbz5n2kfra8p0\\localcache\\local-packages\\python311\\site-packages (from keras-tuner) (23.1)\n",
      "Requirement already satisfied: requests in c:\\users\\umark\\appdata\\local\\packages\\pythonsoftwarefoundation.python.3.11_qbz5n2kfra8p0\\localcache\\local-packages\\python311\\site-packages (from keras-tuner) (2.32.3)\n",
      "Collecting kt-legacy (from keras-tuner)\n",
      "  Downloading kt_legacy-1.0.5-py3-none-any.whl.metadata (221 bytes)\n",
      "Requirement already satisfied: charset-normalizer<4,>=2 in c:\\users\\umark\\appdata\\local\\packages\\pythonsoftwarefoundation.python.3.11_qbz5n2kfra8p0\\localcache\\local-packages\\python311\\site-packages (from requests->keras-tuner) (2.1.1)\n",
      "Requirement already satisfied: idna<4,>=2.5 in c:\\users\\umark\\appdata\\local\\packages\\pythonsoftwarefoundation.python.3.11_qbz5n2kfra8p0\\localcache\\local-packages\\python311\\site-packages (from requests->keras-tuner) (3.4)\n",
      "Requirement already satisfied: urllib3<3,>=1.21.1 in c:\\users\\umark\\appdata\\local\\packages\\pythonsoftwarefoundation.python.3.11_qbz5n2kfra8p0\\localcache\\local-packages\\python311\\site-packages (from requests->keras-tuner) (1.26.12)\n",
      "Requirement already satisfied: certifi>=2017.4.17 in c:\\users\\umark\\appdata\\local\\packages\\pythonsoftwarefoundation.python.3.11_qbz5n2kfra8p0\\localcache\\local-packages\\python311\\site-packages (from requests->keras-tuner) (2022.9.24)\n",
      "Downloading keras_tuner-1.4.7-py3-none-any.whl (129 kB)\n",
      "   ---------------------------------------- 0.0/129.1 kB ? eta -:--:--\n",
      "   ------------ --------------------------- 41.0/129.1 kB ? eta -:--:--\n",
      "   ------------ --------------------------- 41.0/129.1 kB ? eta -:--:--\n",
      "   ------------ --------------------------- 41.0/129.1 kB ? eta -:--:--\n",
      "   ------------ --------------------------- 41.0/129.1 kB ? eta -:--:--\n",
      "   ------------ --------------------------- 41.0/129.1 kB ? eta -:--:--\n",
      "   ------------ --------------------------- 41.0/129.1 kB ? eta -:--:--\n",
      "   -------------------------------------- 129.1/129.1 kB 381.1 kB/s eta 0:00:00\n",
      "Downloading kt_legacy-1.0.5-py3-none-any.whl (9.6 kB)\n",
      "Installing collected packages: kt-legacy, keras-tuner\n",
      "Successfully installed keras-tuner-1.4.7 kt-legacy-1.0.5\n"
     ]
    },
    {
     "name": "stderr",
     "output_type": "stream",
     "text": [
      "\n",
      "[notice] A new release of pip is available: 24.0 -> 24.2\n",
      "[notice] To update, run: C:\\Users\\umark\\AppData\\Local\\Microsoft\\WindowsApps\\PythonSoftwareFoundation.Python.3.11_qbz5n2kfra8p0\\python.exe -m pip install --upgrade pip\n"
     ]
    }
   ],
   "source": [
    "!pip install keras-tuner\n"
   ]
  },
  {
   "cell_type": "code",
   "execution_count": 33,
   "metadata": {},
   "outputs": [],
   "source": [
    "import keras_tuner as kt"
   ]
  },
  {
   "cell_type": "code",
   "execution_count": 41,
   "metadata": {},
   "outputs": [],
   "source": [
    "def check_optimizer(hp):\n",
    "\n",
    "    model = Sequential()\n",
    "    model.add(Dense(32 , activation=\"relu\" , input_dim=8))\n",
    "    model.add(Dense(1 , activation=\"sigmoid\"))\n",
    "\n",
    "    optimizer = hp.Choice(\"optimizers\" , values = [\"adam\" , \"sgd\" , \"adagrad\" , \"rmsprop\"])\n",
    "\n",
    "    model.compile(optimizer=optimizer , loss = \"binary_crossentropy\" , metrics = [\"accuracy\"])\n",
    "\n",
    "    return model"
   ]
  },
  {
   "cell_type": "code",
   "execution_count": 42,
   "metadata": {},
   "outputs": [],
   "source": [
    "tuner = kt.RandomSearch(\n",
    "    check_optimizer,\n",
    "    objective =\"val_accuracy\",\n",
    "    max_trials = 5,\n",
    "    directory = \"myDir\",\n",
    "    project_name = \"Tuning HyperParameter\"\n",
    ")"
   ]
  },
  {
   "cell_type": "code",
   "execution_count": 43,
   "metadata": {},
   "outputs": [
    {
     "name": "stdout",
     "output_type": "stream",
     "text": [
      "Search space summary\n",
      "Default search space size: 1\n",
      "optimizers (Choice)\n",
      "{'default': 'adam', 'conditions': [], 'values': ['adam', 'sgd', 'adagrad', 'rmsprop'], 'ordered': False}\n"
     ]
    }
   ],
   "source": [
    "tuner.search_space_summary()"
   ]
  },
  {
   "cell_type": "code",
   "execution_count": 44,
   "metadata": {},
   "outputs": [
    {
     "name": "stdout",
     "output_type": "stream",
     "text": [
      "Trial 4 Complete [00h 00m 01s]\n",
      "val_accuracy: 0.6883116960525513\n",
      "\n",
      "Best val_accuracy So Far: 0.8051947951316833\n",
      "Total elapsed time: 00h 00m 06s\n"
     ]
    }
   ],
   "source": [
    "tuner.search(X_train , y_train , epochs=6 , validation_data = (X_test , y_test))"
   ]
  },
  {
   "cell_type": "code",
   "execution_count": 46,
   "metadata": {},
   "outputs": [],
   "source": [
    "best = tuner.get_best_hyperparameters(num_trials=1)[0]"
   ]
  },
  {
   "cell_type": "code",
   "execution_count": 50,
   "metadata": {},
   "outputs": [
    {
     "name": "stdout",
     "output_type": "stream",
     "text": [
      "Best hyperparameters:\n",
      "optimizers: adam\n"
     ]
    }
   ],
   "source": [
    "best_hps = tuner.get_best_hyperparameters(num_trials=1)[0]\n",
    "\n",
    "# Print all hyperparameters to debug\n",
    "print(\"Best hyperparameters:\")\n",
    "for key, value in best_hps.values.items():\n",
    "    print(f\"{key}: {value}\")\n",
    "\n",
    "\n"
   ]
  },
  {
   "cell_type": "code",
   "execution_count": 53,
   "metadata": {},
   "outputs": [],
   "source": [
    "def num_unit(hp):\n",
    "    model = Sequential()\n",
    "\n",
    "    model.add(Dense(hp.Int(\"units\" ,min_value = 8 , max_value = 128 , step=8) , activation=\"relu\" , input_dim = 8))\n",
    "    model.add(Dense(1 , activation=\"sigmoid\"))\n",
    "\n",
    "    model.compile(optimizer='Adam' , loss=\"binary_crossentropy\" , metrics=[\"accuracy\"])\n",
    "\n",
    "    return model"
   ]
  },
  {
   "cell_type": "code",
   "execution_count": 54,
   "metadata": {},
   "outputs": [],
   "source": [
    "tuner = kt.RandomSearch(\n",
    "    num_unit,\n",
    "    objective = \"val_accuracy\",\n",
    "    max_trials = 5,\n",
    "    directory = \"myDir\",\n",
    "    project_name = \"CheckNode\",\n",
    ")"
   ]
  },
  {
   "cell_type": "code",
   "execution_count": 55,
   "metadata": {},
   "outputs": [
    {
     "name": "stdout",
     "output_type": "stream",
     "text": [
      "Search space summary\n",
      "Default search space size: 1\n",
      "units (Int)\n",
      "{'default': None, 'conditions': [], 'min_value': 8, 'max_value': 128, 'step': 8, 'sampling': 'linear'}\n"
     ]
    }
   ],
   "source": [
    "tuner.search_space_summary()"
   ]
  },
  {
   "cell_type": "code",
   "execution_count": 56,
   "metadata": {},
   "outputs": [
    {
     "name": "stdout",
     "output_type": "stream",
     "text": [
      "Trial 5 Complete [00h 00m 02s]\n",
      "val_accuracy: 0.7922077775001526\n",
      "\n",
      "Best val_accuracy So Far: 0.8051947951316833\n",
      "Total elapsed time: 00h 00m 08s\n"
     ]
    }
   ],
   "source": [
    "tuner.search(X_train ,y_train , epochs = 6 , validation_data = (X_test , y_test))"
   ]
  },
  {
   "cell_type": "code",
   "execution_count": 57,
   "metadata": {},
   "outputs": [],
   "source": [
    "best_hyp = tuner.get_best_hyperparameters(num_trials=1)[0]"
   ]
  },
  {
   "cell_type": "code",
   "execution_count": 60,
   "metadata": {},
   "outputs": [
    {
     "name": "stdout",
     "output_type": "stream",
     "text": [
      "units: 64\n"
     ]
    }
   ],
   "source": [
    "for key, value in best_hyp.values.items():\n",
    "    print(f\"{key}: {value}\")"
   ]
  },
  {
   "cell_type": "code",
   "execution_count": 73,
   "metadata": {},
   "outputs": [],
   "source": [
    "def Complete_Param(hp):\n",
    "\n",
    "    model = Sequential()\n",
    "\n",
    "    model.add(Dense(hp.Int(\"units\" , min_value = 8 , max_value = 128 , step = 8) , \n",
    "                    activation= hp.Choice(\"activation\" , values = [\"relu\" , \"tanh\" , \"sigmoid\"]) , \n",
    "                     input_dim = 8 ))\n",
    "    drop_out_rate = hp.Choice(\"dropout\" , values= [0.0 , 0.2 , 0.6 , 0.4 , 0.9])\n",
    "    if drop_out_rate>0:\n",
    "        model.add(Dropout(rate = drop_out_rate))\n",
    "    for i in range(hp.Int(\"layers\" , 1 , 5)):\n",
    "\n",
    "        model.add(Dense(hp.Int(\"units_\"+str(i) , min_value=1 , max_value = 256 , step = 16) ,\n",
    "                        activation=hp.Choice(\"activation_\"+str(i) , values = [\"tanh\" , \"relu\" , \"sigmoid\"]) ))\n",
    "        \n",
    "        dropout = hp.Choice(\"dropout_\"+str(i) , values=[0.0 , 0.2 , 0.4 , 0.6 ,0.8 , 0.9])\n",
    "\n",
    "        if dropout> 0:\n",
    "            model.add(Dropout(rate = dropout))\n",
    "    \n",
    "    model.add(Dense(1 , activation= hp.Choice(\"activation\" , values = [\"relu\" , \"tanh\" , \"sigmoid\"])))\n",
    "\n",
    "    \n",
    "    model.compile(optimizer=hp.Choice(\"Optimzer\" , values = [\"adam\" , \"rmsprop\" , \"sgd\" , \"adagrad\"]) , loss = \"binary_crossentropy\" , metrics = [\"accuracy\"])\n",
    "\n",
    "    return model\n"
   ]
  },
  {
   "cell_type": "code",
   "execution_count": 74,
   "metadata": {},
   "outputs": [],
   "source": [
    "tuner = kt.RandomSearch(\n",
    "    Complete_Param,\n",
    "    objective = \"val_accuracy\",\n",
    "    max_trials = 5,\n",
    "    directory = \"myDir\",\n",
    "    project_name = \"Complete Tuning\"\n",
    ")"
   ]
  },
  {
   "cell_type": "code",
   "execution_count": 75,
   "metadata": {},
   "outputs": [
    {
     "name": "stdout",
     "output_type": "stream",
     "text": [
      "Search space summary\n",
      "Default search space size: 8\n",
      "units (Int)\n",
      "{'default': None, 'conditions': [], 'min_value': 8, 'max_value': 128, 'step': 8, 'sampling': 'linear'}\n",
      "activation (Choice)\n",
      "{'default': 'relu', 'conditions': [], 'values': ['relu', 'tanh', 'sigmoid'], 'ordered': False}\n",
      "dropout (Choice)\n",
      "{'default': 0.0, 'conditions': [], 'values': [0.0, 0.2, 0.6, 0.4, 0.9], 'ordered': True}\n",
      "layers (Int)\n",
      "{'default': None, 'conditions': [], 'min_value': 1, 'max_value': 5, 'step': 1, 'sampling': 'linear'}\n",
      "units_0 (Int)\n",
      "{'default': None, 'conditions': [], 'min_value': 1, 'max_value': 256, 'step': 16, 'sampling': 'linear'}\n",
      "activation_0 (Choice)\n",
      "{'default': 'tanh', 'conditions': [], 'values': ['tanh', 'relu', 'sigmoid'], 'ordered': False}\n",
      "dropout_0 (Choice)\n",
      "{'default': 0.0, 'conditions': [], 'values': [0.0, 0.2, 0.4, 0.6, 0.8, 0.9], 'ordered': True}\n",
      "Optimzer (Choice)\n",
      "{'default': 'adam', 'conditions': [], 'values': ['adam', 'rmsprop', 'sgd', 'adagrad'], 'ordered': False}\n"
     ]
    }
   ],
   "source": [
    "tuner.search_space_summary()"
   ]
  },
  {
   "cell_type": "code",
   "execution_count": 76,
   "metadata": {},
   "outputs": [
    {
     "name": "stdout",
     "output_type": "stream",
     "text": [
      "Trial 5 Complete [00h 00m 03s]\n",
      "val_accuracy: 0.6428571343421936\n",
      "\n",
      "Best val_accuracy So Far: 0.7597402334213257\n",
      "Total elapsed time: 00h 00m 13s\n"
     ]
    }
   ],
   "source": [
    "tuner.search(X_train , y_train , epochs = 5 , validation_data = (X_test , y_test)  )"
   ]
  },
  {
   "cell_type": "code",
   "execution_count": 80,
   "metadata": {},
   "outputs": [
    {
     "name": "stdout",
     "output_type": "stream",
     "text": [
      "units: 56\n",
      "activation: relu\n",
      "dropout: 0.6\n",
      "layers: 1\n",
      "units_0: 241\n",
      "activation_0: relu\n",
      "dropout_0: 0.6\n",
      "Optimzer: sgd\n",
      "units_1: 193\n",
      "activation_1: sigmoid\n",
      "dropout_1: 0.9\n",
      "units_2: 113\n",
      "activation_2: sigmoid\n",
      "dropout_2: 0.4\n",
      "units_3: 145\n",
      "activation_3: tanh\n",
      "dropout_3: 0.2\n",
      "units_4: 209\n",
      "activation_4: tanh\n",
      "dropout_4: 0.6\n"
     ]
    }
   ],
   "source": [
    "best_hyper = tuner.get_best_hyperparameters(num_trials=1)[0]\n",
    "\n",
    "for hyperparam in best_hyper.values.keys():\n",
    "    value = best_hyper.get(hyperparam)\n",
    "    print(f\"{hyperparam}: {value}\")\n"
   ]
  },
  {
   "cell_type": "code",
   "execution_count": 82,
   "metadata": {},
   "outputs": [
    {
     "name": "stdout",
     "output_type": "stream",
     "text": [
      "Model: \"sequential\"\n",
      "_________________________________________________________________\n",
      " Layer (type)                Output Shape              Param #   \n",
      "=================================================================\n",
      " dense (Dense)               (None, 56)                504       \n",
      "                                                                 \n",
      " dropout (Dropout)           (None, 56)                0         \n",
      "                                                                 \n",
      " dense_1 (Dense)             (None, 241)               13737     \n",
      "                                                                 \n",
      " dropout_1 (Dropout)         (None, 241)               0         \n",
      "                                                                 \n",
      " dense_2 (Dense)             (None, 1)                 242       \n",
      "                                                                 \n",
      "=================================================================\n",
      "Total params: 14483 (56.57 KB)\n",
      "Trainable params: 14483 (56.57 KB)\n",
      "Non-trainable params: 0 (0.00 Byte)\n",
      "_________________________________________________________________\n"
     ]
    }
   ],
   "source": [
    "model = tuner.get_best_models(num_models=1)[0]\n",
    "model.summary()"
   ]
  },
  {
   "cell_type": "code",
   "execution_count": 83,
   "metadata": {},
   "outputs": [
    {
     "name": "stdout",
     "output_type": "stream",
     "text": [
      "Results summary\n",
      "Results in myDir\\Complete Tuning\n",
      "Showing 10 best trials\n",
      "Objective(name=\"val_accuracy\", direction=\"max\")\n",
      "\n",
      "Trial 2 summary\n",
      "Hyperparameters:\n",
      "units: 56\n",
      "activation: relu\n",
      "dropout: 0.6\n",
      "layers: 1\n",
      "units_0: 241\n",
      "activation_0: relu\n",
      "dropout_0: 0.6\n",
      "Optimzer: sgd\n",
      "units_1: 193\n",
      "activation_1: sigmoid\n",
      "dropout_1: 0.9\n",
      "units_2: 113\n",
      "activation_2: sigmoid\n",
      "dropout_2: 0.4\n",
      "units_3: 145\n",
      "activation_3: tanh\n",
      "dropout_3: 0.2\n",
      "units_4: 209\n",
      "activation_4: tanh\n",
      "dropout_4: 0.6\n",
      "Score: 0.7597402334213257\n",
      "\n",
      "Trial 1 summary\n",
      "Hyperparameters:\n",
      "units: 104\n",
      "activation: sigmoid\n",
      "dropout: 0.0\n",
      "layers: 3\n",
      "units_0: 1\n",
      "activation_0: tanh\n",
      "dropout_0: 0.0\n",
      "Optimzer: sgd\n",
      "units_1: 81\n",
      "activation_1: tanh\n",
      "dropout_1: 0.6\n",
      "units_2: 17\n",
      "activation_2: sigmoid\n",
      "dropout_2: 0.6\n",
      "units_3: 1\n",
      "activation_3: sigmoid\n",
      "dropout_3: 0.4\n",
      "units_4: 97\n",
      "activation_4: sigmoid\n",
      "dropout_4: 0.9\n",
      "Score: 0.701298713684082\n",
      "\n",
      "Trial 0 summary\n",
      "Hyperparameters:\n",
      "units: 120\n",
      "activation: relu\n",
      "dropout: 0.4\n",
      "layers: 5\n",
      "units_0: 145\n",
      "activation_0: tanh\n",
      "dropout_0: 0.9\n",
      "Optimzer: rmsprop\n",
      "units_1: 1\n",
      "activation_1: tanh\n",
      "dropout_1: 0.0\n",
      "units_2: 1\n",
      "activation_2: tanh\n",
      "dropout_2: 0.0\n",
      "units_3: 1\n",
      "activation_3: tanh\n",
      "dropout_3: 0.0\n",
      "units_4: 1\n",
      "activation_4: tanh\n",
      "dropout_4: 0.0\n",
      "Score: 0.6428571343421936\n",
      "\n",
      "Trial 3 summary\n",
      "Hyperparameters:\n",
      "units: 40\n",
      "activation: relu\n",
      "dropout: 0.4\n",
      "layers: 3\n",
      "units_0: 209\n",
      "activation_0: tanh\n",
      "dropout_0: 0.2\n",
      "Optimzer: sgd\n",
      "units_1: 177\n",
      "activation_1: sigmoid\n",
      "dropout_1: 0.9\n",
      "units_2: 225\n",
      "activation_2: relu\n",
      "dropout_2: 0.6\n",
      "units_3: 145\n",
      "activation_3: relu\n",
      "dropout_3: 0.6\n",
      "units_4: 65\n",
      "activation_4: sigmoid\n",
      "dropout_4: 0.0\n",
      "Score: 0.6428571343421936\n",
      "\n",
      "Trial 4 summary\n",
      "Hyperparameters:\n",
      "units: 96\n",
      "activation: sigmoid\n",
      "dropout: 0.6\n",
      "layers: 5\n",
      "units_0: 113\n",
      "activation_0: tanh\n",
      "dropout_0: 0.8\n",
      "Optimzer: adagrad\n",
      "units_1: 225\n",
      "activation_1: tanh\n",
      "dropout_1: 0.4\n",
      "units_2: 49\n",
      "activation_2: tanh\n",
      "dropout_2: 0.8\n",
      "units_3: 241\n",
      "activation_3: tanh\n",
      "dropout_3: 0.2\n",
      "units_4: 209\n",
      "activation_4: relu\n",
      "dropout_4: 0.4\n",
      "Score: 0.6428571343421936\n"
     ]
    }
   ],
   "source": [
    "tuner.results_summary()"
   ]
  },
  {
   "cell_type": "code",
   "execution_count": 94,
   "metadata": {},
   "outputs": [],
   "source": [
    "from keras.callbacks import EarlyStopping\n",
    "\n",
    "early_stopping = EarlyStopping(\n",
    "    monitor='val_accuracy',\n",
    "    patience=3 , \n",
    "    restore_best_weights=True\n",
    ")"
   ]
  },
  {
   "cell_type": "code",
   "execution_count": 95,
   "metadata": {},
   "outputs": [
    {
     "name": "stdout",
     "output_type": "stream",
     "text": [
      "Epoch 7/20\n",
      "20/20 [==============================] - 0s 13ms/step - loss: 4.4269 - accuracy: 0.7003 - val_loss: 3.2948 - val_accuracy: 0.7857\n",
      "Epoch 8/20\n",
      "20/20 [==============================] - 0s 5ms/step - loss: 4.2996 - accuracy: 0.7117 - val_loss: 3.8028 - val_accuracy: 0.7468\n",
      "Epoch 9/20\n",
      "20/20 [==============================] - 0s 5ms/step - loss: 5.0404 - accuracy: 0.6580 - val_loss: 3.3550 - val_accuracy: 0.7662\n",
      "Epoch 10/20\n",
      "20/20 [==============================] - 0s 5ms/step - loss: 4.7758 - accuracy: 0.6792 - val_loss: 3.3260 - val_accuracy: 0.7597\n"
     ]
    }
   ],
   "source": [
    "history = model.fit(X_train , y_train , epochs = 20 , initial_epoch=6 , validation_data = (X_test , y_test) , callbacks=[early_stopping])"
   ]
  },
  {
   "cell_type": "code",
   "execution_count": null,
   "metadata": {},
   "outputs": [],
   "source": []
  }
 ],
 "metadata": {
  "kernelspec": {
   "display_name": "Python 3",
   "language": "python",
   "name": "python3"
  },
  "language_info": {
   "codemirror_mode": {
    "name": "ipython",
    "version": 3
   },
   "file_extension": ".py",
   "mimetype": "text/x-python",
   "name": "python",
   "nbconvert_exporter": "python",
   "pygments_lexer": "ipython3",
   "version": "3.11.9"
  }
 },
 "nbformat": 4,
 "nbformat_minor": 2
}
