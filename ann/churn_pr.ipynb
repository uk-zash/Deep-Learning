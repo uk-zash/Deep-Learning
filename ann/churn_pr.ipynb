{
 "cells": [
  {
   "cell_type": "code",
   "execution_count": 1,
   "metadata": {},
   "outputs": [],
   "source": [
    "import pandas as pd\n",
    "import numpy as np\n"
   ]
  },
  {
   "cell_type": "code",
   "execution_count": 2,
   "metadata": {},
   "outputs": [],
   "source": [
    "df = pd.read_csv(\"Churn Modeling.csv\")\n"
   ]
  },
  {
   "cell_type": "code",
   "execution_count": 3,
   "metadata": {},
   "outputs": [
    {
     "data": {
      "text/html": [
       "<div>\n",
       "<style scoped>\n",
       "    .dataframe tbody tr th:only-of-type {\n",
       "        vertical-align: middle;\n",
       "    }\n",
       "\n",
       "    .dataframe tbody tr th {\n",
       "        vertical-align: top;\n",
       "    }\n",
       "\n",
       "    .dataframe thead th {\n",
       "        text-align: right;\n",
       "    }\n",
       "</style>\n",
       "<table border=\"1\" class=\"dataframe\">\n",
       "  <thead>\n",
       "    <tr style=\"text-align: right;\">\n",
       "      <th></th>\n",
       "      <th>RowNumber</th>\n",
       "      <th>CustomerId</th>\n",
       "      <th>Surname</th>\n",
       "      <th>CreditScore</th>\n",
       "      <th>Geography</th>\n",
       "      <th>Gender</th>\n",
       "      <th>Age</th>\n",
       "      <th>Tenure</th>\n",
       "      <th>Balance</th>\n",
       "      <th>NumOfProducts</th>\n",
       "      <th>HasCrCard</th>\n",
       "      <th>IsActiveMember</th>\n",
       "      <th>EstimatedSalary</th>\n",
       "      <th>Exited</th>\n",
       "    </tr>\n",
       "  </thead>\n",
       "  <tbody>\n",
       "    <tr>\n",
       "      <th>0</th>\n",
       "      <td>1</td>\n",
       "      <td>15634602</td>\n",
       "      <td>Hargrave</td>\n",
       "      <td>619</td>\n",
       "      <td>France</td>\n",
       "      <td>Female</td>\n",
       "      <td>42</td>\n",
       "      <td>2</td>\n",
       "      <td>0.00</td>\n",
       "      <td>1</td>\n",
       "      <td>1</td>\n",
       "      <td>1</td>\n",
       "      <td>101348.88</td>\n",
       "      <td>1</td>\n",
       "    </tr>\n",
       "    <tr>\n",
       "      <th>1</th>\n",
       "      <td>2</td>\n",
       "      <td>15647311</td>\n",
       "      <td>Hill</td>\n",
       "      <td>608</td>\n",
       "      <td>Spain</td>\n",
       "      <td>Female</td>\n",
       "      <td>41</td>\n",
       "      <td>1</td>\n",
       "      <td>83807.86</td>\n",
       "      <td>1</td>\n",
       "      <td>0</td>\n",
       "      <td>1</td>\n",
       "      <td>112542.58</td>\n",
       "      <td>0</td>\n",
       "    </tr>\n",
       "    <tr>\n",
       "      <th>2</th>\n",
       "      <td>3</td>\n",
       "      <td>15619304</td>\n",
       "      <td>Onio</td>\n",
       "      <td>502</td>\n",
       "      <td>France</td>\n",
       "      <td>Female</td>\n",
       "      <td>42</td>\n",
       "      <td>8</td>\n",
       "      <td>159660.80</td>\n",
       "      <td>3</td>\n",
       "      <td>1</td>\n",
       "      <td>0</td>\n",
       "      <td>113931.57</td>\n",
       "      <td>1</td>\n",
       "    </tr>\n",
       "    <tr>\n",
       "      <th>3</th>\n",
       "      <td>4</td>\n",
       "      <td>15701354</td>\n",
       "      <td>Boni</td>\n",
       "      <td>699</td>\n",
       "      <td>France</td>\n",
       "      <td>Female</td>\n",
       "      <td>39</td>\n",
       "      <td>1</td>\n",
       "      <td>0.00</td>\n",
       "      <td>2</td>\n",
       "      <td>0</td>\n",
       "      <td>0</td>\n",
       "      <td>93826.63</td>\n",
       "      <td>0</td>\n",
       "    </tr>\n",
       "    <tr>\n",
       "      <th>4</th>\n",
       "      <td>5</td>\n",
       "      <td>15737888</td>\n",
       "      <td>Mitchell</td>\n",
       "      <td>850</td>\n",
       "      <td>Spain</td>\n",
       "      <td>Female</td>\n",
       "      <td>43</td>\n",
       "      <td>2</td>\n",
       "      <td>125510.82</td>\n",
       "      <td>1</td>\n",
       "      <td>1</td>\n",
       "      <td>1</td>\n",
       "      <td>79084.10</td>\n",
       "      <td>0</td>\n",
       "    </tr>\n",
       "  </tbody>\n",
       "</table>\n",
       "</div>"
      ],
      "text/plain": [
       "   RowNumber  CustomerId   Surname  CreditScore Geography  Gender  Age  \\\n",
       "0          1    15634602  Hargrave          619    France  Female   42   \n",
       "1          2    15647311      Hill          608     Spain  Female   41   \n",
       "2          3    15619304      Onio          502    France  Female   42   \n",
       "3          4    15701354      Boni          699    France  Female   39   \n",
       "4          5    15737888  Mitchell          850     Spain  Female   43   \n",
       "\n",
       "   Tenure    Balance  NumOfProducts  HasCrCard  IsActiveMember  \\\n",
       "0       2       0.00              1          1               1   \n",
       "1       1   83807.86              1          0               1   \n",
       "2       8  159660.80              3          1               0   \n",
       "3       1       0.00              2          0               0   \n",
       "4       2  125510.82              1          1               1   \n",
       "\n",
       "   EstimatedSalary  Exited  \n",
       "0        101348.88       1  \n",
       "1        112542.58       0  \n",
       "2        113931.57       1  \n",
       "3         93826.63       0  \n",
       "4         79084.10       0  "
      ]
     },
     "execution_count": 3,
     "metadata": {},
     "output_type": "execute_result"
    }
   ],
   "source": [
    "df.head()"
   ]
  },
  {
   "cell_type": "code",
   "execution_count": 4,
   "metadata": {},
   "outputs": [
    {
     "name": "stdout",
     "output_type": "stream",
     "text": [
      "<class 'pandas.core.frame.DataFrame'>\n",
      "RangeIndex: 10000 entries, 0 to 9999\n",
      "Data columns (total 14 columns):\n",
      " #   Column           Non-Null Count  Dtype  \n",
      "---  ------           --------------  -----  \n",
      " 0   RowNumber        10000 non-null  int64  \n",
      " 1   CustomerId       10000 non-null  int64  \n",
      " 2   Surname          10000 non-null  object \n",
      " 3   CreditScore      10000 non-null  int64  \n",
      " 4   Geography        10000 non-null  object \n",
      " 5   Gender           10000 non-null  object \n",
      " 6   Age              10000 non-null  int64  \n",
      " 7   Tenure           10000 non-null  int64  \n",
      " 8   Balance          10000 non-null  float64\n",
      " 9   NumOfProducts    10000 non-null  int64  \n",
      " 10  HasCrCard        10000 non-null  int64  \n",
      " 11  IsActiveMember   10000 non-null  int64  \n",
      " 12  EstimatedSalary  10000 non-null  float64\n",
      " 13  Exited           10000 non-null  int64  \n",
      "dtypes: float64(2), int64(9), object(3)\n",
      "memory usage: 1.1+ MB\n"
     ]
    }
   ],
   "source": [
    "df.info()"
   ]
  },
  {
   "cell_type": "code",
   "execution_count": 5,
   "metadata": {},
   "outputs": [
    {
     "data": {
      "text/plain": [
       "0"
      ]
     },
     "execution_count": 5,
     "metadata": {},
     "output_type": "execute_result"
    }
   ],
   "source": [
    "df.duplicated().sum()"
   ]
  },
  {
   "cell_type": "code",
   "execution_count": 6,
   "metadata": {},
   "outputs": [
    {
     "data": {
      "text/plain": [
       "Exited\n",
       "0    7963\n",
       "1    2037\n",
       "Name: count, dtype: int64"
      ]
     },
     "execution_count": 6,
     "metadata": {},
     "output_type": "execute_result"
    }
   ],
   "source": [
    "df['Exited'].value_counts()"
   ]
  },
  {
   "cell_type": "code",
   "execution_count": 7,
   "metadata": {},
   "outputs": [
    {
     "data": {
      "text/plain": [
       "Geography\n",
       "France     5014\n",
       "Germany    2509\n",
       "Spain      2477\n",
       "Name: count, dtype: int64"
      ]
     },
     "execution_count": 7,
     "metadata": {},
     "output_type": "execute_result"
    }
   ],
   "source": [
    "df[\"Geography\"].value_counts()"
   ]
  },
  {
   "cell_type": "code",
   "execution_count": 22,
   "metadata": {},
   "outputs": [
    {
     "ename": "KeyError",
     "evalue": "\"['RowNumber', 'CustomerId', 'Surname'] not found in axis\"",
     "output_type": "error",
     "traceback": [
      "\u001b[1;31m---------------------------------------------------------------------------\u001b[0m",
      "\u001b[1;31mKeyError\u001b[0m                                  Traceback (most recent call last)",
      "Cell \u001b[1;32mIn[22], line 1\u001b[0m\n\u001b[1;32m----> 1\u001b[0m \u001b[43mdf\u001b[49m\u001b[38;5;241;43m.\u001b[39;49m\u001b[43mdrop\u001b[49m\u001b[43m(\u001b[49m\u001b[43mcolumns\u001b[49m\u001b[43m \u001b[49m\u001b[38;5;241;43m=\u001b[39;49m\u001b[43m \u001b[49m\u001b[43m[\u001b[49m\u001b[38;5;124;43m\"\u001b[39;49m\u001b[38;5;124;43mRowNumber\u001b[39;49m\u001b[38;5;124;43m\"\u001b[39;49m\u001b[43m,\u001b[49m\u001b[38;5;124;43m\"\u001b[39;49m\u001b[38;5;124;43mCustomerId\u001b[39;49m\u001b[38;5;124;43m\"\u001b[39;49m\u001b[43m\t\u001b[49m\u001b[43m,\u001b[49m\u001b[43m \u001b[49m\u001b[38;5;124;43m\"\u001b[39;49m\u001b[38;5;124;43mSurname\u001b[39;49m\u001b[38;5;124;43m\"\u001b[39;49m\u001b[43m]\u001b[49m\u001b[43m \u001b[49m\u001b[43m,\u001b[49m\u001b[43m \u001b[49m\u001b[43minplace\u001b[49m\u001b[43m \u001b[49m\u001b[38;5;241;43m=\u001b[39;49m\u001b[43m \u001b[49m\u001b[38;5;28;43;01mTrue\u001b[39;49;00m\u001b[43m)\u001b[49m\n",
      "File \u001b[1;32m~\\AppData\\Local\\Packages\\PythonSoftwareFoundation.Python.3.11_qbz5n2kfra8p0\\LocalCache\\local-packages\\Python311\\site-packages\\pandas\\core\\frame.py:5568\u001b[0m, in \u001b[0;36mDataFrame.drop\u001b[1;34m(self, labels, axis, index, columns, level, inplace, errors)\u001b[0m\n\u001b[0;32m   5420\u001b[0m \u001b[38;5;28;01mdef\u001b[39;00m \u001b[38;5;21mdrop\u001b[39m(\n\u001b[0;32m   5421\u001b[0m     \u001b[38;5;28mself\u001b[39m,\n\u001b[0;32m   5422\u001b[0m     labels: IndexLabel \u001b[38;5;241m|\u001b[39m \u001b[38;5;28;01mNone\u001b[39;00m \u001b[38;5;241m=\u001b[39m \u001b[38;5;28;01mNone\u001b[39;00m,\n\u001b[1;32m   (...)\u001b[0m\n\u001b[0;32m   5429\u001b[0m     errors: IgnoreRaise \u001b[38;5;241m=\u001b[39m \u001b[38;5;124m\"\u001b[39m\u001b[38;5;124mraise\u001b[39m\u001b[38;5;124m\"\u001b[39m,\n\u001b[0;32m   5430\u001b[0m ) \u001b[38;5;241m-\u001b[39m\u001b[38;5;241m>\u001b[39m DataFrame \u001b[38;5;241m|\u001b[39m \u001b[38;5;28;01mNone\u001b[39;00m:\n\u001b[0;32m   5431\u001b[0m \u001b[38;5;250m    \u001b[39m\u001b[38;5;124;03m\"\"\"\u001b[39;00m\n\u001b[0;32m   5432\u001b[0m \u001b[38;5;124;03m    Drop specified labels from rows or columns.\u001b[39;00m\n\u001b[0;32m   5433\u001b[0m \n\u001b[1;32m   (...)\u001b[0m\n\u001b[0;32m   5566\u001b[0m \u001b[38;5;124;03m            weight  1.0     0.8\u001b[39;00m\n\u001b[0;32m   5567\u001b[0m \u001b[38;5;124;03m    \"\"\"\u001b[39;00m\n\u001b[1;32m-> 5568\u001b[0m     \u001b[38;5;28;01mreturn\u001b[39;00m \u001b[38;5;28;43msuper\u001b[39;49m\u001b[43m(\u001b[49m\u001b[43m)\u001b[49m\u001b[38;5;241;43m.\u001b[39;49m\u001b[43mdrop\u001b[49m\u001b[43m(\u001b[49m\n\u001b[0;32m   5569\u001b[0m \u001b[43m        \u001b[49m\u001b[43mlabels\u001b[49m\u001b[38;5;241;43m=\u001b[39;49m\u001b[43mlabels\u001b[49m\u001b[43m,\u001b[49m\n\u001b[0;32m   5570\u001b[0m \u001b[43m        \u001b[49m\u001b[43maxis\u001b[49m\u001b[38;5;241;43m=\u001b[39;49m\u001b[43maxis\u001b[49m\u001b[43m,\u001b[49m\n\u001b[0;32m   5571\u001b[0m \u001b[43m        \u001b[49m\u001b[43mindex\u001b[49m\u001b[38;5;241;43m=\u001b[39;49m\u001b[43mindex\u001b[49m\u001b[43m,\u001b[49m\n\u001b[0;32m   5572\u001b[0m \u001b[43m        \u001b[49m\u001b[43mcolumns\u001b[49m\u001b[38;5;241;43m=\u001b[39;49m\u001b[43mcolumns\u001b[49m\u001b[43m,\u001b[49m\n\u001b[0;32m   5573\u001b[0m \u001b[43m        \u001b[49m\u001b[43mlevel\u001b[49m\u001b[38;5;241;43m=\u001b[39;49m\u001b[43mlevel\u001b[49m\u001b[43m,\u001b[49m\n\u001b[0;32m   5574\u001b[0m \u001b[43m        \u001b[49m\u001b[43minplace\u001b[49m\u001b[38;5;241;43m=\u001b[39;49m\u001b[43minplace\u001b[49m\u001b[43m,\u001b[49m\n\u001b[0;32m   5575\u001b[0m \u001b[43m        \u001b[49m\u001b[43merrors\u001b[49m\u001b[38;5;241;43m=\u001b[39;49m\u001b[43merrors\u001b[49m\u001b[43m,\u001b[49m\n\u001b[0;32m   5576\u001b[0m \u001b[43m    \u001b[49m\u001b[43m)\u001b[49m\n",
      "File \u001b[1;32m~\\AppData\\Local\\Packages\\PythonSoftwareFoundation.Python.3.11_qbz5n2kfra8p0\\LocalCache\\local-packages\\Python311\\site-packages\\pandas\\core\\generic.py:4785\u001b[0m, in \u001b[0;36mNDFrame.drop\u001b[1;34m(self, labels, axis, index, columns, level, inplace, errors)\u001b[0m\n\u001b[0;32m   4783\u001b[0m \u001b[38;5;28;01mfor\u001b[39;00m axis, labels \u001b[38;5;129;01min\u001b[39;00m axes\u001b[38;5;241m.\u001b[39mitems():\n\u001b[0;32m   4784\u001b[0m     \u001b[38;5;28;01mif\u001b[39;00m labels \u001b[38;5;129;01mis\u001b[39;00m \u001b[38;5;129;01mnot\u001b[39;00m \u001b[38;5;28;01mNone\u001b[39;00m:\n\u001b[1;32m-> 4785\u001b[0m         obj \u001b[38;5;241m=\u001b[39m \u001b[43mobj\u001b[49m\u001b[38;5;241;43m.\u001b[39;49m\u001b[43m_drop_axis\u001b[49m\u001b[43m(\u001b[49m\u001b[43mlabels\u001b[49m\u001b[43m,\u001b[49m\u001b[43m \u001b[49m\u001b[43maxis\u001b[49m\u001b[43m,\u001b[49m\u001b[43m \u001b[49m\u001b[43mlevel\u001b[49m\u001b[38;5;241;43m=\u001b[39;49m\u001b[43mlevel\u001b[49m\u001b[43m,\u001b[49m\u001b[43m \u001b[49m\u001b[43merrors\u001b[49m\u001b[38;5;241;43m=\u001b[39;49m\u001b[43merrors\u001b[49m\u001b[43m)\u001b[49m\n\u001b[0;32m   4787\u001b[0m \u001b[38;5;28;01mif\u001b[39;00m inplace:\n\u001b[0;32m   4788\u001b[0m     \u001b[38;5;28mself\u001b[39m\u001b[38;5;241m.\u001b[39m_update_inplace(obj)\n",
      "File \u001b[1;32m~\\AppData\\Local\\Packages\\PythonSoftwareFoundation.Python.3.11_qbz5n2kfra8p0\\LocalCache\\local-packages\\Python311\\site-packages\\pandas\\core\\generic.py:4827\u001b[0m, in \u001b[0;36mNDFrame._drop_axis\u001b[1;34m(self, labels, axis, level, errors, only_slice)\u001b[0m\n\u001b[0;32m   4825\u001b[0m         new_axis \u001b[38;5;241m=\u001b[39m axis\u001b[38;5;241m.\u001b[39mdrop(labels, level\u001b[38;5;241m=\u001b[39mlevel, errors\u001b[38;5;241m=\u001b[39merrors)\n\u001b[0;32m   4826\u001b[0m     \u001b[38;5;28;01melse\u001b[39;00m:\n\u001b[1;32m-> 4827\u001b[0m         new_axis \u001b[38;5;241m=\u001b[39m \u001b[43maxis\u001b[49m\u001b[38;5;241;43m.\u001b[39;49m\u001b[43mdrop\u001b[49m\u001b[43m(\u001b[49m\u001b[43mlabels\u001b[49m\u001b[43m,\u001b[49m\u001b[43m \u001b[49m\u001b[43merrors\u001b[49m\u001b[38;5;241;43m=\u001b[39;49m\u001b[43merrors\u001b[49m\u001b[43m)\u001b[49m\n\u001b[0;32m   4828\u001b[0m     indexer \u001b[38;5;241m=\u001b[39m axis\u001b[38;5;241m.\u001b[39mget_indexer(new_axis)\n\u001b[0;32m   4830\u001b[0m \u001b[38;5;66;03m# Case for non-unique axis\u001b[39;00m\n\u001b[0;32m   4831\u001b[0m \u001b[38;5;28;01melse\u001b[39;00m:\n",
      "File \u001b[1;32m~\\AppData\\Local\\Packages\\PythonSoftwareFoundation.Python.3.11_qbz5n2kfra8p0\\LocalCache\\local-packages\\Python311\\site-packages\\pandas\\core\\indexes\\base.py:7070\u001b[0m, in \u001b[0;36mIndex.drop\u001b[1;34m(self, labels, errors)\u001b[0m\n\u001b[0;32m   7068\u001b[0m \u001b[38;5;28;01mif\u001b[39;00m mask\u001b[38;5;241m.\u001b[39many():\n\u001b[0;32m   7069\u001b[0m     \u001b[38;5;28;01mif\u001b[39;00m errors \u001b[38;5;241m!=\u001b[39m \u001b[38;5;124m\"\u001b[39m\u001b[38;5;124mignore\u001b[39m\u001b[38;5;124m\"\u001b[39m:\n\u001b[1;32m-> 7070\u001b[0m         \u001b[38;5;28;01mraise\u001b[39;00m \u001b[38;5;167;01mKeyError\u001b[39;00m(\u001b[38;5;124mf\u001b[39m\u001b[38;5;124m\"\u001b[39m\u001b[38;5;132;01m{\u001b[39;00mlabels[mask]\u001b[38;5;241m.\u001b[39mtolist()\u001b[38;5;132;01m}\u001b[39;00m\u001b[38;5;124m not found in axis\u001b[39m\u001b[38;5;124m\"\u001b[39m)\n\u001b[0;32m   7071\u001b[0m     indexer \u001b[38;5;241m=\u001b[39m indexer[\u001b[38;5;241m~\u001b[39mmask]\n\u001b[0;32m   7072\u001b[0m \u001b[38;5;28;01mreturn\u001b[39;00m \u001b[38;5;28mself\u001b[39m\u001b[38;5;241m.\u001b[39mdelete(indexer)\n",
      "\u001b[1;31mKeyError\u001b[0m: \"['RowNumber', 'CustomerId', 'Surname'] not found in axis\""
     ]
    }
   ],
   "source": [
    "df.drop(columns = [\"RowNumber\",\"CustomerId\"\t, \"Surname\"] , inplace = True)"
   ]
  },
  {
   "cell_type": "code",
   "execution_count": null,
   "metadata": {},
   "outputs": [
    {
     "data": {
      "text/html": [
       "<div>\n",
       "<style scoped>\n",
       "    .dataframe tbody tr th:only-of-type {\n",
       "        vertical-align: middle;\n",
       "    }\n",
       "\n",
       "    .dataframe tbody tr th {\n",
       "        vertical-align: top;\n",
       "    }\n",
       "\n",
       "    .dataframe thead th {\n",
       "        text-align: right;\n",
       "    }\n",
       "</style>\n",
       "<table border=\"1\" class=\"dataframe\">\n",
       "  <thead>\n",
       "    <tr style=\"text-align: right;\">\n",
       "      <th></th>\n",
       "      <th>CreditScore</th>\n",
       "      <th>Geography</th>\n",
       "      <th>Gender</th>\n",
       "      <th>Age</th>\n",
       "      <th>Tenure</th>\n",
       "      <th>Balance</th>\n",
       "      <th>NumOfProducts</th>\n",
       "      <th>HasCrCard</th>\n",
       "      <th>IsActiveMember</th>\n",
       "      <th>EstimatedSalary</th>\n",
       "      <th>Exited</th>\n",
       "    </tr>\n",
       "  </thead>\n",
       "  <tbody>\n",
       "    <tr>\n",
       "      <th>0</th>\n",
       "      <td>619</td>\n",
       "      <td>France</td>\n",
       "      <td>Female</td>\n",
       "      <td>42</td>\n",
       "      <td>2</td>\n",
       "      <td>0.00</td>\n",
       "      <td>1</td>\n",
       "      <td>1</td>\n",
       "      <td>1</td>\n",
       "      <td>101348.88</td>\n",
       "      <td>1</td>\n",
       "    </tr>\n",
       "    <tr>\n",
       "      <th>1</th>\n",
       "      <td>608</td>\n",
       "      <td>Spain</td>\n",
       "      <td>Female</td>\n",
       "      <td>41</td>\n",
       "      <td>1</td>\n",
       "      <td>83807.86</td>\n",
       "      <td>1</td>\n",
       "      <td>0</td>\n",
       "      <td>1</td>\n",
       "      <td>112542.58</td>\n",
       "      <td>0</td>\n",
       "    </tr>\n",
       "    <tr>\n",
       "      <th>2</th>\n",
       "      <td>502</td>\n",
       "      <td>France</td>\n",
       "      <td>Female</td>\n",
       "      <td>42</td>\n",
       "      <td>8</td>\n",
       "      <td>159660.80</td>\n",
       "      <td>3</td>\n",
       "      <td>1</td>\n",
       "      <td>0</td>\n",
       "      <td>113931.57</td>\n",
       "      <td>1</td>\n",
       "    </tr>\n",
       "    <tr>\n",
       "      <th>3</th>\n",
       "      <td>699</td>\n",
       "      <td>France</td>\n",
       "      <td>Female</td>\n",
       "      <td>39</td>\n",
       "      <td>1</td>\n",
       "      <td>0.00</td>\n",
       "      <td>2</td>\n",
       "      <td>0</td>\n",
       "      <td>0</td>\n",
       "      <td>93826.63</td>\n",
       "      <td>0</td>\n",
       "    </tr>\n",
       "    <tr>\n",
       "      <th>4</th>\n",
       "      <td>850</td>\n",
       "      <td>Spain</td>\n",
       "      <td>Female</td>\n",
       "      <td>43</td>\n",
       "      <td>2</td>\n",
       "      <td>125510.82</td>\n",
       "      <td>1</td>\n",
       "      <td>1</td>\n",
       "      <td>1</td>\n",
       "      <td>79084.10</td>\n",
       "      <td>0</td>\n",
       "    </tr>\n",
       "  </tbody>\n",
       "</table>\n",
       "</div>"
      ],
      "text/plain": [
       "   CreditScore Geography  Gender  Age  Tenure    Balance  NumOfProducts  \\\n",
       "0          619    France  Female   42       2       0.00              1   \n",
       "1          608     Spain  Female   41       1   83807.86              1   \n",
       "2          502    France  Female   42       8  159660.80              3   \n",
       "3          699    France  Female   39       1       0.00              2   \n",
       "4          850     Spain  Female   43       2  125510.82              1   \n",
       "\n",
       "   HasCrCard  IsActiveMember  EstimatedSalary  Exited  \n",
       "0          1               1        101348.88       1  \n",
       "1          0               1        112542.58       0  \n",
       "2          1               0        113931.57       1  \n",
       "3          0               0         93826.63       0  \n",
       "4          1               1         79084.10       0  "
      ]
     },
     "execution_count": 10,
     "metadata": {},
     "output_type": "execute_result"
    }
   ],
   "source": [
    "df.head()"
   ]
  },
  {
   "cell_type": "code",
   "execution_count": 28,
   "metadata": {},
   "outputs": [],
   "source": [
    "df  = pd.get_dummies(df , drop_first = True)"
   ]
  },
  {
   "cell_type": "code",
   "execution_count": 29,
   "metadata": {},
   "outputs": [],
   "source": [
    "X = df.drop(columns = [\"Exited\"])\n",
    "y = df[\"Exited\"]\n"
   ]
  },
  {
   "cell_type": "code",
   "execution_count": 30,
   "metadata": {},
   "outputs": [],
   "source": [
    "from sklearn.model_selection import train_test_split\n",
    "X_train , X_test , y_train , y_test = train_test_split(X , y , test_size = 0.2 , random_state = 43)"
   ]
  },
  {
   "cell_type": "code",
   "execution_count": null,
   "metadata": {},
   "outputs": [],
   "source": []
  },
  {
   "cell_type": "code",
   "execution_count": 31,
   "metadata": {},
   "outputs": [],
   "source": [
    "from sklearn.preprocessing import StandardScaler\n",
    "sc = StandardScaler()"
   ]
  },
  {
   "cell_type": "code",
   "execution_count": 32,
   "metadata": {},
   "outputs": [],
   "source": [
    "X_train_scaled = sc.fit_transform(X_train)\n",
    "X_test_scaled = sc.transform(X_test)"
   ]
  },
  {
   "cell_type": "code",
   "execution_count": 34,
   "metadata": {},
   "outputs": [],
   "source": [
    "\n",
    "import tensorflow as tf\n",
    "from tensorflow.keras.models import Sequential\n",
    "from tensorflow.keras.layers import Dense"
   ]
  },
  {
   "cell_type": "code",
   "execution_count": 38,
   "metadata": {},
   "outputs": [],
   "source": [
    "# Initialize the ANN\n",
    "model = Sequential()\n",
    "\n",
    "model.add(Dense(3, activation='relu', input_dim=11))\n",
    "model.add(Dense(1, activation='sigmoid'))\n",
    "\n",
    "\n",
    "model.compile(optimizer='adam', loss='binary_crossentropy', metrics=['accuracy'])"
   ]
  },
  {
   "cell_type": "code",
   "execution_count": 39,
   "metadata": {},
   "outputs": [
    {
     "name": "stdout",
     "output_type": "stream",
     "text": [
      "Epoch 1/100\n",
      "200/200 [==============================] - 2s 5ms/step - loss: 0.5955 - accuracy: 0.7144 - val_loss: 0.5584 - val_accuracy: 0.7806\n",
      "Epoch 2/100\n",
      "200/200 [==============================] - 1s 3ms/step - loss: 0.5268 - accuracy: 0.7916 - val_loss: 0.5093 - val_accuracy: 0.7981\n",
      "Epoch 3/100\n",
      "200/200 [==============================] - 1s 5ms/step - loss: 0.4902 - accuracy: 0.7962 - val_loss: 0.4806 - val_accuracy: 0.7994\n",
      "Epoch 4/100\n",
      "200/200 [==============================] - 1s 4ms/step - loss: 0.4688 - accuracy: 0.7962 - val_loss: 0.4638 - val_accuracy: 0.7994\n",
      "Epoch 5/100\n",
      "200/200 [==============================] - 1s 4ms/step - loss: 0.4554 - accuracy: 0.7962 - val_loss: 0.4528 - val_accuracy: 0.7987\n",
      "Epoch 6/100\n",
      "200/200 [==============================] - 1s 3ms/step - loss: 0.4463 - accuracy: 0.7969 - val_loss: 0.4446 - val_accuracy: 0.7994\n",
      "Epoch 7/100\n",
      "200/200 [==============================] - 1s 4ms/step - loss: 0.4394 - accuracy: 0.8048 - val_loss: 0.4381 - val_accuracy: 0.8019\n",
      "Epoch 8/100\n",
      "200/200 [==============================] - 1s 3ms/step - loss: 0.4340 - accuracy: 0.8120 - val_loss: 0.4324 - val_accuracy: 0.8056\n",
      "Epoch 9/100\n",
      "200/200 [==============================] - 1s 3ms/step - loss: 0.4297 - accuracy: 0.8138 - val_loss: 0.4284 - val_accuracy: 0.8206\n",
      "Epoch 10/100\n",
      "200/200 [==============================] - 1s 3ms/step - loss: 0.4262 - accuracy: 0.8155 - val_loss: 0.4249 - val_accuracy: 0.8244\n",
      "Epoch 11/100\n",
      "200/200 [==============================] - 1s 3ms/step - loss: 0.4234 - accuracy: 0.8180 - val_loss: 0.4215 - val_accuracy: 0.8225\n",
      "Epoch 12/100\n",
      "200/200 [==============================] - 2s 11ms/step - loss: 0.4209 - accuracy: 0.8220 - val_loss: 0.4187 - val_accuracy: 0.8275\n",
      "Epoch 13/100\n",
      "200/200 [==============================] - 3s 13ms/step - loss: 0.4188 - accuracy: 0.8222 - val_loss: 0.4163 - val_accuracy: 0.8281\n",
      "Epoch 14/100\n",
      "200/200 [==============================] - 1s 6ms/step - loss: 0.4169 - accuracy: 0.8248 - val_loss: 0.4141 - val_accuracy: 0.8300\n",
      "Epoch 15/100\n",
      "200/200 [==============================] - 2s 9ms/step - loss: 0.4152 - accuracy: 0.8250 - val_loss: 0.4123 - val_accuracy: 0.8313\n",
      "Epoch 16/100\n",
      "200/200 [==============================] - 1s 5ms/step - loss: 0.4138 - accuracy: 0.8266 - val_loss: 0.4108 - val_accuracy: 0.8313\n",
      "Epoch 17/100\n",
      "200/200 [==============================] - 1s 4ms/step - loss: 0.4126 - accuracy: 0.8267 - val_loss: 0.4095 - val_accuracy: 0.8294\n",
      "Epoch 18/100\n",
      "200/200 [==============================] - 2s 8ms/step - loss: 0.4113 - accuracy: 0.8273 - val_loss: 0.4082 - val_accuracy: 0.8300\n",
      "Epoch 19/100\n",
      "200/200 [==============================] - 3s 17ms/step - loss: 0.4103 - accuracy: 0.8280 - val_loss: 0.4068 - val_accuracy: 0.8331\n",
      "Epoch 20/100\n",
      "200/200 [==============================] - 2s 12ms/step - loss: 0.4092 - accuracy: 0.8280 - val_loss: 0.4058 - val_accuracy: 0.8338\n",
      "Epoch 21/100\n",
      "200/200 [==============================] - 1s 3ms/step - loss: 0.4079 - accuracy: 0.8288 - val_loss: 0.4043 - val_accuracy: 0.8331\n",
      "Epoch 22/100\n",
      "200/200 [==============================] - 1s 3ms/step - loss: 0.4069 - accuracy: 0.8298 - val_loss: 0.4030 - val_accuracy: 0.8344\n",
      "Epoch 23/100\n",
      "200/200 [==============================] - 1s 3ms/step - loss: 0.4058 - accuracy: 0.8295 - val_loss: 0.4022 - val_accuracy: 0.8338\n",
      "Epoch 24/100\n",
      "200/200 [==============================] - 1s 3ms/step - loss: 0.4052 - accuracy: 0.8288 - val_loss: 0.4013 - val_accuracy: 0.8344\n",
      "Epoch 25/100\n",
      "200/200 [==============================] - 1s 3ms/step - loss: 0.4043 - accuracy: 0.8295 - val_loss: 0.4004 - val_accuracy: 0.8350\n",
      "Epoch 26/100\n",
      "200/200 [==============================] - 1s 3ms/step - loss: 0.4038 - accuracy: 0.8292 - val_loss: 0.3999 - val_accuracy: 0.8369\n",
      "Epoch 27/100\n",
      "200/200 [==============================] - 1s 4ms/step - loss: 0.4031 - accuracy: 0.8298 - val_loss: 0.3994 - val_accuracy: 0.8350\n",
      "Epoch 28/100\n",
      "200/200 [==============================] - 1s 3ms/step - loss: 0.4026 - accuracy: 0.8297 - val_loss: 0.3991 - val_accuracy: 0.8350\n",
      "Epoch 29/100\n",
      "200/200 [==============================] - 1s 3ms/step - loss: 0.4020 - accuracy: 0.8289 - val_loss: 0.3986 - val_accuracy: 0.8350\n",
      "Epoch 30/100\n",
      "200/200 [==============================] - 1s 5ms/step - loss: 0.4016 - accuracy: 0.8295 - val_loss: 0.3981 - val_accuracy: 0.8369\n",
      "Epoch 31/100\n",
      "200/200 [==============================] - 5s 26ms/step - loss: 0.4011 - accuracy: 0.8289 - val_loss: 0.3978 - val_accuracy: 0.8356\n",
      "Epoch 32/100\n",
      "200/200 [==============================] - 1s 3ms/step - loss: 0.4008 - accuracy: 0.8292 - val_loss: 0.3975 - val_accuracy: 0.8363\n",
      "Epoch 33/100\n",
      "200/200 [==============================] - 1s 3ms/step - loss: 0.4002 - accuracy: 0.8278 - val_loss: 0.3970 - val_accuracy: 0.8344\n",
      "Epoch 34/100\n",
      "200/200 [==============================] - 1s 4ms/step - loss: 0.3998 - accuracy: 0.8295 - val_loss: 0.3969 - val_accuracy: 0.8331\n",
      "Epoch 35/100\n",
      "200/200 [==============================] - 1s 3ms/step - loss: 0.3994 - accuracy: 0.8284 - val_loss: 0.3963 - val_accuracy: 0.8338\n",
      "Epoch 36/100\n",
      "200/200 [==============================] - 1s 3ms/step - loss: 0.3990 - accuracy: 0.8288 - val_loss: 0.3964 - val_accuracy: 0.8338\n",
      "Epoch 37/100\n",
      "200/200 [==============================] - 1s 3ms/step - loss: 0.3986 - accuracy: 0.8289 - val_loss: 0.3961 - val_accuracy: 0.8338\n",
      "Epoch 38/100\n",
      "200/200 [==============================] - 1s 3ms/step - loss: 0.3981 - accuracy: 0.8283 - val_loss: 0.3963 - val_accuracy: 0.8338\n",
      "Epoch 39/100\n",
      "200/200 [==============================] - 1s 4ms/step - loss: 0.3976 - accuracy: 0.8284 - val_loss: 0.3952 - val_accuracy: 0.8344\n",
      "Epoch 40/100\n",
      "200/200 [==============================] - 1s 3ms/step - loss: 0.3973 - accuracy: 0.8281 - val_loss: 0.3951 - val_accuracy: 0.8350\n",
      "Epoch 41/100\n",
      "200/200 [==============================] - 1s 3ms/step - loss: 0.3969 - accuracy: 0.8294 - val_loss: 0.3948 - val_accuracy: 0.8356\n",
      "Epoch 42/100\n",
      "200/200 [==============================] - 1s 3ms/step - loss: 0.3966 - accuracy: 0.8283 - val_loss: 0.3947 - val_accuracy: 0.8344\n",
      "Epoch 43/100\n",
      "200/200 [==============================] - 1s 3ms/step - loss: 0.3961 - accuracy: 0.8295 - val_loss: 0.3946 - val_accuracy: 0.8344\n",
      "Epoch 44/100\n",
      "200/200 [==============================] - 1s 3ms/step - loss: 0.3958 - accuracy: 0.8288 - val_loss: 0.3938 - val_accuracy: 0.8350\n",
      "Epoch 45/100\n",
      "200/200 [==============================] - 1s 3ms/step - loss: 0.3956 - accuracy: 0.8298 - val_loss: 0.3937 - val_accuracy: 0.8338\n",
      "Epoch 46/100\n",
      "200/200 [==============================] - 1s 4ms/step - loss: 0.3952 - accuracy: 0.8289 - val_loss: 0.3934 - val_accuracy: 0.8350\n",
      "Epoch 47/100\n",
      "200/200 [==============================] - 1s 3ms/step - loss: 0.3949 - accuracy: 0.8281 - val_loss: 0.3935 - val_accuracy: 0.8369\n",
      "Epoch 48/100\n",
      "200/200 [==============================] - 1s 3ms/step - loss: 0.3947 - accuracy: 0.8288 - val_loss: 0.3933 - val_accuracy: 0.8369\n",
      "Epoch 49/100\n",
      "200/200 [==============================] - 1s 3ms/step - loss: 0.3945 - accuracy: 0.8289 - val_loss: 0.3931 - val_accuracy: 0.8363\n",
      "Epoch 50/100\n",
      "200/200 [==============================] - 1s 4ms/step - loss: 0.3941 - accuracy: 0.8294 - val_loss: 0.3930 - val_accuracy: 0.8350\n",
      "Epoch 51/100\n",
      "200/200 [==============================] - 1s 3ms/step - loss: 0.3940 - accuracy: 0.8288 - val_loss: 0.3930 - val_accuracy: 0.8350\n",
      "Epoch 52/100\n",
      "200/200 [==============================] - 1s 3ms/step - loss: 0.3938 - accuracy: 0.8298 - val_loss: 0.3927 - val_accuracy: 0.8350\n",
      "Epoch 53/100\n",
      "200/200 [==============================] - 1s 3ms/step - loss: 0.3936 - accuracy: 0.8289 - val_loss: 0.3925 - val_accuracy: 0.8350\n",
      "Epoch 54/100\n",
      "200/200 [==============================] - 1s 3ms/step - loss: 0.3933 - accuracy: 0.8289 - val_loss: 0.3923 - val_accuracy: 0.8356\n",
      "Epoch 55/100\n",
      "200/200 [==============================] - 1s 3ms/step - loss: 0.3932 - accuracy: 0.8291 - val_loss: 0.3919 - val_accuracy: 0.8350\n",
      "Epoch 56/100\n",
      "200/200 [==============================] - 1s 3ms/step - loss: 0.3931 - accuracy: 0.8286 - val_loss: 0.3919 - val_accuracy: 0.8356\n",
      "Epoch 57/100\n",
      "200/200 [==============================] - 1s 3ms/step - loss: 0.3928 - accuracy: 0.8292 - val_loss: 0.3915 - val_accuracy: 0.8356\n",
      "Epoch 58/100\n",
      "200/200 [==============================] - 1s 3ms/step - loss: 0.3926 - accuracy: 0.8292 - val_loss: 0.3914 - val_accuracy: 0.8363\n",
      "Epoch 59/100\n",
      "200/200 [==============================] - 1s 3ms/step - loss: 0.3924 - accuracy: 0.8295 - val_loss: 0.3913 - val_accuracy: 0.8344\n",
      "Epoch 60/100\n",
      "200/200 [==============================] - 1s 4ms/step - loss: 0.3923 - accuracy: 0.8294 - val_loss: 0.3914 - val_accuracy: 0.8350\n",
      "Epoch 61/100\n",
      "200/200 [==============================] - 1s 3ms/step - loss: 0.3922 - accuracy: 0.8286 - val_loss: 0.3911 - val_accuracy: 0.8356\n",
      "Epoch 62/100\n",
      "200/200 [==============================] - 1s 3ms/step - loss: 0.3921 - accuracy: 0.8305 - val_loss: 0.3914 - val_accuracy: 0.8356\n",
      "Epoch 63/100\n",
      "200/200 [==============================] - 1s 3ms/step - loss: 0.3919 - accuracy: 0.8298 - val_loss: 0.3908 - val_accuracy: 0.8363\n",
      "Epoch 64/100\n",
      "200/200 [==============================] - 1s 3ms/step - loss: 0.3918 - accuracy: 0.8294 - val_loss: 0.3911 - val_accuracy: 0.8356\n",
      "Epoch 65/100\n",
      "200/200 [==============================] - 1s 4ms/step - loss: 0.3916 - accuracy: 0.8295 - val_loss: 0.3907 - val_accuracy: 0.8344\n",
      "Epoch 66/100\n",
      "200/200 [==============================] - 1s 3ms/step - loss: 0.3915 - accuracy: 0.8295 - val_loss: 0.3906 - val_accuracy: 0.8350\n",
      "Epoch 67/100\n",
      "200/200 [==============================] - 1s 3ms/step - loss: 0.3915 - accuracy: 0.8292 - val_loss: 0.3908 - val_accuracy: 0.8338\n",
      "Epoch 68/100\n",
      "200/200 [==============================] - 1s 3ms/step - loss: 0.3914 - accuracy: 0.8302 - val_loss: 0.3909 - val_accuracy: 0.8406\n",
      "Epoch 69/100\n",
      "200/200 [==============================] - 1s 3ms/step - loss: 0.3913 - accuracy: 0.8325 - val_loss: 0.3911 - val_accuracy: 0.8400\n",
      "Epoch 70/100\n",
      "200/200 [==============================] - 1s 4ms/step - loss: 0.3913 - accuracy: 0.8344 - val_loss: 0.3909 - val_accuracy: 0.8388\n",
      "Epoch 71/100\n",
      "200/200 [==============================] - 1s 3ms/step - loss: 0.3911 - accuracy: 0.8339 - val_loss: 0.3909 - val_accuracy: 0.8419\n",
      "Epoch 72/100\n",
      "200/200 [==============================] - 1s 3ms/step - loss: 0.3910 - accuracy: 0.8342 - val_loss: 0.3901 - val_accuracy: 0.8400\n",
      "Epoch 73/100\n",
      "200/200 [==============================] - 1s 3ms/step - loss: 0.3909 - accuracy: 0.8342 - val_loss: 0.3905 - val_accuracy: 0.8388\n",
      "Epoch 74/100\n",
      "200/200 [==============================] - 1s 4ms/step - loss: 0.3910 - accuracy: 0.8339 - val_loss: 0.3903 - val_accuracy: 0.8394\n",
      "Epoch 75/100\n",
      "200/200 [==============================] - 1s 3ms/step - loss: 0.3909 - accuracy: 0.8350 - val_loss: 0.3905 - val_accuracy: 0.8400\n",
      "Epoch 76/100\n",
      "200/200 [==============================] - 1s 3ms/step - loss: 0.3908 - accuracy: 0.8352 - val_loss: 0.3904 - val_accuracy: 0.8400\n",
      "Epoch 77/100\n",
      "200/200 [==============================] - 1s 3ms/step - loss: 0.3906 - accuracy: 0.8359 - val_loss: 0.3904 - val_accuracy: 0.8419\n",
      "Epoch 78/100\n",
      "200/200 [==============================] - 1s 3ms/step - loss: 0.3906 - accuracy: 0.8356 - val_loss: 0.3903 - val_accuracy: 0.8419\n",
      "Epoch 79/100\n",
      "200/200 [==============================] - 1s 4ms/step - loss: 0.3906 - accuracy: 0.8355 - val_loss: 0.3906 - val_accuracy: 0.8431\n",
      "Epoch 80/100\n",
      "200/200 [==============================] - 1s 4ms/step - loss: 0.3905 - accuracy: 0.8355 - val_loss: 0.3902 - val_accuracy: 0.8425\n",
      "Epoch 81/100\n",
      "200/200 [==============================] - 1s 3ms/step - loss: 0.3903 - accuracy: 0.8367 - val_loss: 0.3901 - val_accuracy: 0.8431\n",
      "Epoch 82/100\n",
      "200/200 [==============================] - 1s 3ms/step - loss: 0.3903 - accuracy: 0.8358 - val_loss: 0.3897 - val_accuracy: 0.8425\n",
      "Epoch 83/100\n",
      "200/200 [==============================] - 1s 4ms/step - loss: 0.3903 - accuracy: 0.8356 - val_loss: 0.3897 - val_accuracy: 0.8419\n",
      "Epoch 84/100\n",
      "200/200 [==============================] - 1s 3ms/step - loss: 0.3902 - accuracy: 0.8377 - val_loss: 0.3897 - val_accuracy: 0.8425\n",
      "Epoch 85/100\n",
      "200/200 [==============================] - 1s 3ms/step - loss: 0.3900 - accuracy: 0.8370 - val_loss: 0.3901 - val_accuracy: 0.8400\n",
      "Epoch 86/100\n",
      "200/200 [==============================] - 1s 3ms/step - loss: 0.3900 - accuracy: 0.8375 - val_loss: 0.3898 - val_accuracy: 0.8406\n",
      "Epoch 87/100\n",
      "200/200 [==============================] - 1s 3ms/step - loss: 0.3899 - accuracy: 0.8373 - val_loss: 0.3896 - val_accuracy: 0.8431\n",
      "Epoch 88/100\n",
      "200/200 [==============================] - 1s 3ms/step - loss: 0.3899 - accuracy: 0.8378 - val_loss: 0.3892 - val_accuracy: 0.8419\n",
      "Epoch 89/100\n",
      "200/200 [==============================] - 1s 3ms/step - loss: 0.3897 - accuracy: 0.8377 - val_loss: 0.3892 - val_accuracy: 0.8406\n",
      "Epoch 90/100\n",
      "200/200 [==============================] - 1s 3ms/step - loss: 0.3896 - accuracy: 0.8378 - val_loss: 0.3892 - val_accuracy: 0.8419\n",
      "Epoch 91/100\n",
      "200/200 [==============================] - 1s 3ms/step - loss: 0.3895 - accuracy: 0.8384 - val_loss: 0.3889 - val_accuracy: 0.8444\n",
      "Epoch 92/100\n",
      "200/200 [==============================] - 1s 4ms/step - loss: 0.3897 - accuracy: 0.8384 - val_loss: 0.3889 - val_accuracy: 0.8425\n",
      "Epoch 93/100\n",
      "200/200 [==============================] - 1s 3ms/step - loss: 0.3896 - accuracy: 0.8375 - val_loss: 0.3888 - val_accuracy: 0.8438\n",
      "Epoch 94/100\n",
      "200/200 [==============================] - 1s 3ms/step - loss: 0.3895 - accuracy: 0.8381 - val_loss: 0.3887 - val_accuracy: 0.8438\n",
      "Epoch 95/100\n",
      "200/200 [==============================] - 1s 3ms/step - loss: 0.3894 - accuracy: 0.8389 - val_loss: 0.3890 - val_accuracy: 0.8438\n",
      "Epoch 96/100\n",
      "200/200 [==============================] - 1s 3ms/step - loss: 0.3893 - accuracy: 0.8386 - val_loss: 0.3888 - val_accuracy: 0.8438\n",
      "Epoch 97/100\n",
      "200/200 [==============================] - 1s 4ms/step - loss: 0.3893 - accuracy: 0.8383 - val_loss: 0.3887 - val_accuracy: 0.8444\n",
      "Epoch 98/100\n",
      "200/200 [==============================] - 1s 3ms/step - loss: 0.3891 - accuracy: 0.8389 - val_loss: 0.3889 - val_accuracy: 0.8431\n",
      "Epoch 99/100\n",
      "200/200 [==============================] - 1s 3ms/step - loss: 0.3892 - accuracy: 0.8386 - val_loss: 0.3887 - val_accuracy: 0.8438\n",
      "Epoch 100/100\n",
      "200/200 [==============================] - 1s 3ms/step - loss: 0.3891 - accuracy: 0.8391 - val_loss: 0.3886 - val_accuracy: 0.8438\n"
     ]
    }
   ],
   "source": [
    "\n",
    "history = model.fit(X_train_scaled, y_train, epochs=100, validation_split=0.2)\n"
   ]
  },
  {
   "cell_type": "code",
   "execution_count": 40,
   "metadata": {},
   "outputs": [
    {
     "data": {
      "text/plain": [
       "[<matplotlib.lines.Line2D at 0x17ab2663e10>]"
      ]
     },
     "execution_count": 40,
     "metadata": {},
     "output_type": "execute_result"
    },
    {
     "data": {
      "image/png": "[encoded data removed]",
      "text/plain": [
       "<Figure size 640x480 with 1 Axes>"
      ]
     },
     "metadata": {},
     "output_type": "display_data"
    }
   ],
   "source": [
    "import matplotlib.pyplot as plt\n",
    "plt.plot(history.history[\"loss\"])\n",
    "plt.plot(history.history[\"val_loss\"])"
   ]
  },
  {
   "cell_type": "code",
   "execution_count": 41,
   "metadata": {},
   "outputs": [
    {
     "data": {
      "text/plain": [
       "[<matplotlib.lines.Line2D at 0x17ab4b28450>]"
      ]
     },
     "execution_count": 41,
     "metadata": {},
     "output_type": "execute_result"
    },
    {
     "data": {
      "image/png": "[encoded data removed]",
      "text/plain": [
       "<Figure size 640x480 with 1 Axes>"
      ]
     },
     "metadata": {},
     "output_type": "display_data"
    }
   ],
   "source": [
    "plt.plot(history.history[\"accuracy\"])\n",
    "plt.plot(history.history[\"val_accuracy\"])"
   ]
  },
  {
   "cell_type": "code",
   "execution_count": null,
   "metadata": {},
   "outputs": [],
   "source": []
  }
 ],
 "metadata": {
  "kernelspec": {
   "display_name": "Python 3",
   "language": "python",
   "name": "python3"
  },
  "language_info": {
   "codemirror_mode": {
    "name": "ipython",
    "version": 3
   },
   "file_extension": ".py",
   "mimetype": "text/x-python",
   "name": "python",
   "nbconvert_exporter": "python",
   "pygments_lexer": "ipython3",
   "version": "3.11.9"
  }
 },
 "nbformat": 4,
 "nbformat_minor": 2
}
