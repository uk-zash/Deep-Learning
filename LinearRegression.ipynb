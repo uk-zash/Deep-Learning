{
 "cells": [
  {
   "cell_type": "code",
   "execution_count": 44,
   "metadata": {},
   "outputs": [],
   "source": [
    "from tqdm import tqdm  \n",
    "\n",
    "class LinearRegression:\n",
    "\n",
    "    def __init__(self, epochs=10000, lr=0.001):\n",
    "        self.epochs = epochs\n",
    "        self.learning_rate = lr\n",
    "        self.weight = 0\n",
    "        self.bias = 0\n",
    "    \n",
    "    def pred(self, X):\n",
    "        return [self.weight * x + self.bias for x in X]\n",
    "\n",
    "    def fit(self, X, y):\n",
    "        n = len(X)\n",
    "\n",
    "        for _ in tqdm(range(self.epochs), desc=\"Training Progress\"):\n",
    "            y_pred = self.pred(X)\n",
    "\n",
    "            dw = (-2/n) * sum((y[i] - y_pred[i]) * X[i] for i in range(n))\n",
    "            db = (-2/n) * sum(y[i] - y_pred[i] for i in range(n))\n",
    "\n",
    "            self.weight -= self.learning_rate * dw\n",
    "            self.bias -= self.learning_rate * db"
   ]
  },
  {
   "cell_type": "code",
   "execution_count": 45,
   "metadata": {},
   "outputs": [
    {
     "name": "stderr",
     "output_type": "stream",
     "text": [
      "Training Progress: 100%|██████████| 10000/10000 [00:00<00:00, 200031.67it/s]\n"
     ]
    }
   ],
   "source": [
    "X = [1, 2, 3, 4, 5]\n",
    "y = [2, 3, 5, 7, 11]\n",
    "\n",
    "model = LinearRegression()\n",
    "    \n",
    "\n",
    "model.fit(X, y)"
   ]
  },
  {
   "cell_type": "code",
   "execution_count": 46,
   "metadata": {},
   "outputs": [
    {
     "name": "stdout",
     "output_type": "stream",
     "text": [
      "Slope: 2.1859257643553622\n",
      "Intercept: -0.9491875435920732\n",
      "Predictions: [1.2367382207632889, 3.422663985118651, 5.608589749474014, 7.794515513829376, 9.980441278184738]\n"
     ]
    }
   ],
   "source": [
    "\n",
    "predictions = model.pred([1, 2, 3, 4, 5])\n",
    "    \n",
    "print(\"Slope:\", model.weight)\n",
    "print(\"Intercept:\", model.bias)\n",
    "print(\"Predictions:\", predictions)"
   ]
  },
  {
   "cell_type": "code",
   "execution_count": null,
   "metadata": {},
   "outputs": [],
   "source": []
  }
 ],
 "metadata": {
  "kernelspec": {
   "display_name": "Python 3",
   "language": "python",
   "name": "python3"
  },
  "language_info": {
   "codemirror_mode": {
    "name": "ipython",
    "version": 3
   },
   "file_extension": ".py",
   "mimetype": "text/x-python",
   "name": "python",
   "nbconvert_exporter": "python",
   "pygments_lexer": "ipython3",
   "version": "3.11.9"
  }
 },
 "nbformat": 4,
 "nbformat_minor": 2
}
