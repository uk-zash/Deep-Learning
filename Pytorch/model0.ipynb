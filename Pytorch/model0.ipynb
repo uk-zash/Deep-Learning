{
 "cells": [
  {
   "cell_type": "markdown",
   "metadata": {},
   "source": [
    "# Importing Libraries"
   ]
  },
  {
   "cell_type": "code",
   "execution_count": 126,
   "metadata": {},
   "outputs": [
    {
     "data": {
      "text/plain": [
       "'2.2.1+cpu'"
      ]
     },
     "execution_count": 126,
     "metadata": {},
     "output_type": "execute_result"
    }
   ],
   "source": [
    "import torch \n",
    "from torch import nn\n",
    "import matplotlib.pyplot as plt\n",
    "import numpy as np\n",
    "\n",
    "torch.__version__"
   ]
  },
  {
   "cell_type": "markdown",
   "metadata": {},
   "source": [
    "# Write a device agnostic Code"
   ]
  },
  {
   "cell_type": "code",
   "execution_count": 2,
   "metadata": {},
   "outputs": [
    {
     "data": {
      "text/plain": [
       "'cpu'"
      ]
     },
     "execution_count": 2,
     "metadata": {},
     "output_type": "execute_result"
    }
   ],
   "source": [
    "device = \"cuda\" if torch.cuda.is_available() else \"cpu\"\n",
    "device"
   ]
  },
  {
   "cell_type": "code",
   "execution_count": 6,
   "metadata": {},
   "outputs": [
    {
     "data": {
      "text/plain": [
       "(tensor([[0.0000],\n",
       "         [0.0200],\n",
       "         [0.0400],\n",
       "         [0.0600],\n",
       "         [0.0800],\n",
       "         [0.1000],\n",
       "         [0.1200],\n",
       "         [0.1400],\n",
       "         [0.1600],\n",
       "         [0.1800]]),\n",
       " tensor([[0.3000],\n",
       "         [0.3140],\n",
       "         [0.3280],\n",
       "         [0.3420],\n",
       "         [0.3560],\n",
       "         [0.3700],\n",
       "         [0.3840],\n",
       "         [0.3980],\n",
       "         [0.4120],\n",
       "         [0.4260]]))"
      ]
     },
     "execution_count": 6,
     "metadata": {},
     "output_type": "execute_result"
    }
   ],
   "source": [
    "weight = 0.7\n",
    "bias = 0.3\n",
    "\n",
    "start = 0\n",
    "end = 1 \n",
    "step = 0.02\n",
    "\n",
    "X   = torch.arange(start , end , step).unsqueeze(dim = 1) \n",
    "y = weight * X + bias\n",
    "X[:10] , y[:10]"
   ]
  },
  {
   "cell_type": "markdown",
   "metadata": {},
   "source": [
    "# Split the data"
   ]
  },
  {
   "cell_type": "code",
   "execution_count": 9,
   "metadata": {},
   "outputs": [
    {
     "data": {
      "text/plain": [
       "(40, 40, 10, 10)"
      ]
     },
     "execution_count": 9,
     "metadata": {},
     "output_type": "execute_result"
    }
   ],
   "source": [
    "train_split = int(0.8 * len(X))\n",
    "\n",
    "X_train , y_train = X[:train_split] , y[:train_split]\n",
    "X_test , y_test = X[train_split:] , y[train_split:]\n",
    "len(X_train) , len(y_train) , len(X_test) , len(y_test)"
   ]
  },
  {
   "cell_type": "markdown",
   "metadata": {},
   "source": [
    "# Plot the data"
   ]
  },
  {
   "cell_type": "code",
   "execution_count": 82,
   "metadata": {},
   "outputs": [],
   "source": [
    "def plot_prediction(X_train_label = X_train , y_train_label= y_train,\n",
    "                    X_test_label = X_test , y_test_label = y_test , predictions = None):\n",
    "\n",
    "                    plt.scatter(X_train_label , y_train_label , c = \"b\" , s = 4 , label = \"TrainingData\" )\n",
    "                    plt.scatter(X_test_label , y_test_label , c = \"g\" , s = 4 , label = \"TestData\")\n",
    "                    \n",
    "                    if predictions is not None:\n",
    "                        plt.scatter(X_test_label , predictions , c = \"r\" , s = 4 , label = \"Predictions\")\n",
    "                    plt.legend()"
   ]
  },
  {
   "cell_type": "code",
   "execution_count": 83,
   "metadata": {},
   "outputs": [
    {
     "data": {
      "image/png": "[encoded data removed]",
      "text/plain": [
       "<Figure size 640x480 with 1 Axes>"
      ]
     },
     "metadata": {},
     "output_type": "display_data"
    }
   ],
   "source": [
    "plot_prediction()"
   ]
  },
  {
   "cell_type": "markdown",
   "metadata": {},
   "source": [
    "# Build Model "
   ]
  },
  {
   "cell_type": "code",
   "execution_count": 21,
   "metadata": {},
   "outputs": [],
   "source": [
    "class LinearRegressionModelV2(nn.Module):\n",
    "    def __init__(self):\n",
    "        super().__init__()\n",
    "        self.linear_layer = nn.Linear(in_features=1, out_features=1)\n",
    "    def forward(self):\n",
    "        return self.linear_layer(x)"
   ]
  },
  {
   "cell_type": "code",
   "execution_count": 22,
   "metadata": {},
   "outputs": [],
   "source": [
    "modelV2 = LinearRegressionModelV2()"
   ]
  },
  {
   "cell_type": "code",
   "execution_count": 23,
   "metadata": {},
   "outputs": [
    {
     "data": {
      "text/plain": [
       "OrderedDict([('linear_layer.weight', tensor([[-0.9983]])),\n",
       "             ('linear_layer.bias', tensor([0.1653]))])"
      ]
     },
     "execution_count": 23,
     "metadata": {},
     "output_type": "execute_result"
    }
   ],
   "source": [
    "modelV2.state_dict()"
   ]
  },
  {
   "cell_type": "code",
   "execution_count": 170,
   "metadata": {},
   "outputs": [],
   "source": [
    "class LinearRegressionModel(nn.Module):\n",
    "\n",
    "    def __init__(self):\n",
    "        super().__init__()\n",
    "        self.weights = nn.Parameter(torch.rand(1 , requires_grad=True , dtype=torch.float))\n",
    "        self.bias = nn.Parameter(torch.rand(1 , requires_grad=True , dtype=torch.float))\n",
    "\n",
    "    def forward(self , X:torch.Tensor) -> torch.Tensor:\n",
    "        return self.weights * X + self.bias"
   ]
  },
  {
   "cell_type": "code",
   "execution_count": 171,
   "metadata": {},
   "outputs": [],
   "source": [
    "model = LinearRegressionModel()"
   ]
  },
  {
   "cell_type": "code",
   "execution_count": 172,
   "metadata": {},
   "outputs": [
    {
     "data": {
      "text/plain": [
       "[Parameter containing:\n",
       " tensor([0.8823], requires_grad=True),\n",
       " Parameter containing:\n",
       " tensor([0.9150], requires_grad=True)]"
      ]
     },
     "execution_count": 172,
     "metadata": {},
     "output_type": "execute_result"
    }
   ],
   "source": [
    "list(model.parameters())"
   ]
  },
  {
   "cell_type": "markdown",
   "metadata": {},
   "source": [
    "# Check the device"
   ]
  },
  {
   "cell_type": "code",
   "execution_count": 173,
   "metadata": {},
   "outputs": [
    {
     "data": {
      "text/plain": [
       "device(type='cpu')"
      ]
     },
     "execution_count": 173,
     "metadata": {},
     "output_type": "execute_result"
    }
   ],
   "source": [
    "next(model.parameters()).device"
   ]
  },
  {
   "cell_type": "code",
   "execution_count": 174,
   "metadata": {},
   "outputs": [
    {
     "data": {
      "text/plain": [
       "device(type='cpu')"
      ]
     },
     "execution_count": 174,
     "metadata": {},
     "output_type": "execute_result"
    }
   ],
   "source": [
    "model.to(device)\n",
    "next(model.parameters()).device"
   ]
  },
  {
   "cell_type": "code",
   "execution_count": 175,
   "metadata": {},
   "outputs": [
    {
     "data": {
      "text/plain": [
       "OrderedDict([('weights', tensor([0.8823])), ('bias', tensor([0.9150]))])"
      ]
     },
     "execution_count": 175,
     "metadata": {},
     "output_type": "execute_result"
    }
   ],
   "source": [
    "model.state_dict()"
   ]
  },
  {
   "cell_type": "markdown",
   "metadata": {},
   "source": [
    "# Training"
   ]
  },
  {
   "cell_type": "code",
   "execution_count": 176,
   "metadata": {},
   "outputs": [],
   "source": [
    "loss_fn = nn.MSELoss()\n",
    "\n",
    "optimizer = torch.optim.SGD(params = model.parameters() , lr = 0.01)"
   ]
  },
  {
   "cell_type": "code",
   "execution_count": 177,
   "metadata": {},
   "outputs": [
    {
     "name": "stdout",
     "output_type": "stream",
     "text": [
      "Epoch: 0 | Train_loss: 0.47248879075050354 | Test_loss: 0.5755255818367004\n",
      "Epoch: 10 | Train_loss: 0.29560011625289917 | Test_loss: 0.3531690239906311\n",
      "Epoch: 20 | Train_loss: 0.18495838344097137 | Test_loss: 0.21562115848064423\n",
      "Epoch: 30 | Train_loss: 0.11575271934270859 | Test_loss: 0.13078677654266357\n",
      "Epoch: 40 | Train_loss: 0.072464719414711 | Test_loss: 0.07866328954696655\n",
      "Epoch: 50 | Train_loss: 0.04538766294717789 | Test_loss: 0.046795621514320374\n",
      "Epoch: 60 | Train_loss: 0.02845033071935177 | Test_loss: 0.02743770182132721\n",
      "Epoch: 70 | Train_loss: 0.01785522699356079 | Test_loss: 0.01577904261648655\n",
      "Epoch: 80 | Train_loss: 0.011227093636989594 | Test_loss: 0.008837966248393059\n",
      "Epoch: 90 | Train_loss: 0.007080242037773132 | Test_loss: 0.00477070827037096\n",
      "Epoch: 100 | Train_loss: 0.004485415760427713 | Test_loss: 0.002440699841827154\n",
      "Epoch: 110 | Train_loss: 0.002861354500055313 | Test_loss: 0.0011500805849209428\n",
      "Epoch: 120 | Train_loss: 0.0018445199821144342 | Test_loss: 0.0004726141633000225\n",
      "Epoch: 130 | Train_loss: 0.0012075089616701007 | Test_loss: 0.00014969459152780473\n",
      "Epoch: 140 | Train_loss: 0.0008080925908870995 | Test_loss: 2.5862051188596524e-05\n",
      "Epoch: 150 | Train_loss: 0.0005573015077970922 | Test_loss: 8.794799214228988e-06\n",
      "Epoch: 160 | Train_loss: 0.00039949026540853083 | Test_loss: 4.460827403818257e-05\n",
      "Epoch: 170 | Train_loss: 0.0002998540294356644 | Test_loss: 0.00010262000432703644\n",
      "Epoch: 180 | Train_loss: 0.0002366220869589597 | Test_loss: 0.00016600839444436133\n",
      "Epoch: 190 | Train_loss: 0.00019617770158220083 | Test_loss: 0.00022610757150687277\n",
      "Epoch: 200 | Train_loss: 0.00017000248772092164 | Test_loss: 0.00027895273524336517\n",
      "Epoch: 210 | Train_loss: 0.00015276797057595104 | Test_loss: 0.0003231953305657953\n",
      "Epoch: 220 | Train_loss: 0.0001411419070791453 | Test_loss: 0.00035889114951714873\n",
      "Epoch: 230 | Train_loss: 0.00013303894957061857 | Test_loss: 0.0003867749182973057\n",
      "Epoch: 240 | Train_loss: 0.00012715494085568935 | Test_loss: 0.00040784786688163877\n",
      "Epoch: 250 | Train_loss: 0.00012267350393813103 | Test_loss: 0.0004231709463056177\n",
      "Epoch: 260 | Train_loss: 0.0001190840412164107 | Test_loss: 0.0004337337741162628\n",
      "Epoch: 270 | Train_loss: 0.00011606698535615578 | Test_loss: 0.0004404346982482821\n",
      "Epoch: 280 | Train_loss: 0.00011342202924424782 | Test_loss: 0.0004440286138560623\n",
      "Epoch: 290 | Train_loss: 0.00011102305870736018 | Test_loss: 0.00044514742330648005\n",
      "Epoch: 300 | Train_loss: 0.00010879231558647007 | Test_loss: 0.0004443253274075687\n",
      "Epoch: 310 | Train_loss: 0.00010667970491340384 | Test_loss: 0.000441982876509428\n",
      "Epoch: 320 | Train_loss: 0.00010465391824254766 | Test_loss: 0.000438465183833614\n",
      "Epoch: 330 | Train_loss: 0.00010269577614963055 | Test_loss: 0.0004340456216596067\n",
      "Epoch: 340 | Train_loss: 0.00010079197818413377 | Test_loss: 0.0004289444477763027\n",
      "Epoch: 350 | Train_loss: 9.893470996757969e-05 | Test_loss: 0.0004233320360071957\n",
      "Epoch: 360 | Train_loss: 9.711871098261327e-05 | Test_loss: 0.0004173500055912882\n",
      "Epoch: 370 | Train_loss: 9.534061973681673e-05 | Test_loss: 0.0004111046437174082\n",
      "Epoch: 380 | Train_loss: 9.359799150843173e-05 | Test_loss: 0.00040467787766829133\n",
      "Epoch: 390 | Train_loss: 9.18886944418773e-05 | Test_loss: 0.0003981421759817749\n",
      "Epoch: 400 | Train_loss: 9.021181176649407e-05 | Test_loss: 0.0003915414272341877\n",
      "Epoch: 410 | Train_loss: 8.85660556377843e-05 | Test_loss: 0.0003849205677397549\n",
      "Epoch: 420 | Train_loss: 8.695117867318913e-05 | Test_loss: 0.0003783098072744906\n",
      "Epoch: 430 | Train_loss: 8.536562381777912e-05 | Test_loss: 0.0003717316430993378\n",
      "Epoch: 440 | Train_loss: 8.380923827644438e-05 | Test_loss: 0.00036520278081297874\n",
      "Epoch: 450 | Train_loss: 8.228098158724606e-05 | Test_loss: 0.00035873829619958997\n",
      "Epoch: 460 | Train_loss: 8.078065002337098e-05 | Test_loss: 0.000352349947206676\n",
      "Epoch: 470 | Train_loss: 7.930766878416762e-05 | Test_loss: 0.00034604387474246323\n",
      "Epoch: 480 | Train_loss: 7.78621542849578e-05 | Test_loss: 0.00033983535831794143\n",
      "Epoch: 490 | Train_loss: 7.64430733397603e-05 | Test_loss: 0.00033371703466400504\n",
      "Epoch: 500 | Train_loss: 7.504953828174621e-05 | Test_loss: 0.00032768893288448453\n",
      "Epoch: 510 | Train_loss: 7.368117803707719e-05 | Test_loss: 0.0003217572229914367\n",
      "Epoch: 520 | Train_loss: 7.23384291632101e-05 | Test_loss: 0.00031592888990417123\n",
      "Epoch: 530 | Train_loss: 7.101997471181676e-05 | Test_loss: 0.00031020157621242106\n",
      "Epoch: 540 | Train_loss: 6.972545088501647e-05 | Test_loss: 0.000304569024592638\n",
      "Epoch: 550 | Train_loss: 6.845453754067421e-05 | Test_loss: 0.0002990341163240373\n",
      "Epoch: 560 | Train_loss: 6.720667443005368e-05 | Test_loss: 0.0002935962693300098\n",
      "Epoch: 570 | Train_loss: 6.598162872251123e-05 | Test_loss: 0.00028825533809140325\n",
      "Epoch: 580 | Train_loss: 6.477900024037808e-05 | Test_loss: 0.00028301082784309983\n",
      "Epoch: 590 | Train_loss: 6.359846156556159e-05 | Test_loss: 0.0002778618363663554\n"
     ]
    }
   ],
   "source": [
    "torch.manual_seed(42)\n",
    "\n",
    "epochs = 600\n",
    "\n",
    "# Put data on the target device - Device agnostic code for the data\n",
    "\n",
    "epoch_count = []\n",
    "train_losses = []\n",
    "test_losses =[]\n",
    "\n",
    "X_train = X_train.to(device)\n",
    "y_train = y_train.to(device)\n",
    "X_test = X_test.to(device)\n",
    "y_test = y_test.to(device)\n",
    "\n",
    "for epoch in range(epochs):\n",
    "\n",
    "    model.train()\n",
    "\n",
    "    y_pred = model(X_train)\n",
    "\n",
    "    loss = loss_fn(y_pred , y_train)\n",
    "\n",
    "    optimizer.zero_grad()\n",
    "\n",
    "    loss.backward()\n",
    "    optimizer.step()\n",
    "\n",
    "    #Testing\n",
    "    model.eval()\n",
    "\n",
    "    with torch.inference_mode():\n",
    "        test_pred = model(X_test)\n",
    "\n",
    "        test_loss = loss_fn(test_pred , y_test)\n",
    "    \n",
    "    if epoch % 10 == 0:\n",
    "        epoch_count.append(epoch)\n",
    "        train_losses.append(loss)\n",
    "        test_losses.append(test_loss)\n",
    "        print(f\"Epoch: {epoch} | Train_loss: {loss} | Test_loss: {test_loss}\")\n",
    "\n",
    "\n",
    "\n",
    "\n",
    "\n",
    "    "
   ]
  },
  {
   "cell_type": "code",
   "execution_count": 178,
   "metadata": {},
   "outputs": [
    {
     "data": {
      "text/plain": [
       "OrderedDict([('weights', tensor([0.6659])), ('bias', tensor([0.3139]))])"
      ]
     },
     "execution_count": 178,
     "metadata": {},
     "output_type": "execute_result"
    }
   ],
   "source": [
    "model.state_dict()"
   ]
  },
  {
   "cell_type": "code",
   "execution_count": 179,
   "metadata": {},
   "outputs": [
    {
     "data": {
      "image/png": "[encoded data removed]",
      "text/plain": [
       "<Figure size 640x480 with 1 Axes>"
      ]
     },
     "metadata": {},
     "output_type": "display_data"
    }
   ],
   "source": [
    "model.eval()\n",
    "with torch.no_grad():\n",
    "    predictions = model(X_test)\n",
    "\n",
    "plot_prediction(predictions = predictions)"
   ]
  },
  {
   "cell_type": "markdown",
   "metadata": {},
   "source": [
    "# Save the model "
   ]
  },
  {
   "cell_type": "code",
   "execution_count": 180,
   "metadata": {},
   "outputs": [],
   "source": [
    "from pathlib import Path\n",
    "\n",
    "MODEL_PATH = Path(\"models\")\n",
    "MODEL_PATH.mkdir(parents = True , exist_ok = True)\n",
    "\n",
    "\n",
    "MODEL_NAME = \"Model1.pth\"\n",
    "MODEL_SAVE_PATH = MODEL_PATH/ MODEL_NAME\n",
    "\n",
    "torch.save(obj = model.state_dict() , f = MODEL_SAVE_PATH)"
   ]
  },
  {
   "cell_type": "markdown",
   "metadata": {},
   "source": [
    "# Load Model"
   ]
  },
  {
   "cell_type": "code",
   "execution_count": 181,
   "metadata": {},
   "outputs": [],
   "source": [
    "load_model = LinearRegressionModel()"
   ]
  },
  {
   "cell_type": "code",
   "execution_count": 182,
   "metadata": {},
   "outputs": [
    {
     "data": {
      "text/plain": [
       "<All keys matched successfully>"
      ]
     },
     "execution_count": 182,
     "metadata": {},
     "output_type": "execute_result"
    }
   ],
   "source": [
    "load_model.load_state_dict(torch.load(MODEL_SAVE_PATH))"
   ]
  },
  {
   "cell_type": "code",
   "execution_count": 183,
   "metadata": {},
   "outputs": [
    {
     "data": {
      "text/plain": [
       "OrderedDict([('weights', tensor([0.6659])), ('bias', tensor([0.3139]))])"
      ]
     },
     "execution_count": 183,
     "metadata": {},
     "output_type": "execute_result"
    }
   ],
   "source": [
    "load_model.state_dict()"
   ]
  },
  {
   "cell_type": "code",
   "execution_count": 184,
   "metadata": {},
   "outputs": [
    {
     "data": {
      "text/plain": [
       "device(type='cpu')"
      ]
     },
     "execution_count": 184,
     "metadata": {},
     "output_type": "execute_result"
    }
   ],
   "source": [
    "next(load_model.parameters()).device"
   ]
  },
  {
   "cell_type": "code",
   "execution_count": 185,
   "metadata": {},
   "outputs": [
    {
     "data": {
      "text/plain": [
       "tensor([[True],\n",
       "        [True],\n",
       "        [True],\n",
       "        [True],\n",
       "        [True],\n",
       "        [True],\n",
       "        [True],\n",
       "        [True],\n",
       "        [True],\n",
       "        [True]])"
      ]
     },
     "execution_count": 185,
     "metadata": {},
     "output_type": "execute_result"
    }
   ],
   "source": [
    "load_model.eval()\n",
    "with torch.inference_mode():\n",
    "    load_model_pred = load_model(X_test)\n",
    "\n",
    "load_model_pred == predictions\n"
   ]
  },
  {
   "cell_type": "code",
   "execution_count": 186,
   "metadata": {},
   "outputs": [
    {
     "data": {
      "text/plain": [
       "<matplotlib.legend.Legend at 0x12ced901410>"
      ]
     },
     "execution_count": 186,
     "metadata": {},
     "output_type": "execute_result"
    },
    {
     "data": {
      "image/png": "[encoded data removed]",
      "text/plain": [
       "<Figure size 640x480 with 1 Axes>"
      ]
     },
     "metadata": {},
     "output_type": "display_data"
    }
   ],
   "source": [
    "plt.plot(epoch_count , np.array(torch.tensor(train_losses).numpy()) , label = \"Train loss\")\n",
    "plt.plot(epoch_count , test_losses , label = \"Test loss\")\n",
    "plt.title(\"Training and test loss curves\")\n",
    "plt.ylabel(\"Loss\")\n",
    "plt.xlabel(\"Epochs\")\n",
    "plt.legend()"
   ]
  },
  {
   "cell_type": "code",
   "execution_count": null,
   "metadata": {},
   "outputs": [],
   "source": []
  }
 ],
 "metadata": {
  "kernelspec": {
   "display_name": "Python 3",
   "language": "python",
   "name": "python3"
  },
  "language_info": {
   "codemirror_mode": {
    "name": "ipython",
    "version": 3
   },
   "file_extension": ".py",
   "mimetype": "text/x-python",
   "name": "python",
   "nbconvert_exporter": "python",
   "pygments_lexer": "ipython3",
   "version": "3.11.9"
  }
 },
 "nbformat": 4,
 "nbformat_minor": 2
}
