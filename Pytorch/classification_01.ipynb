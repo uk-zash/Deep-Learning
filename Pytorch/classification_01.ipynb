{
 "cells": [
  {
   "cell_type": "markdown",
   "metadata": {},
   "source": [
    "Classification Problem\n",
    "\n",
    "* Make classification Data"
   ]
  },
  {
   "cell_type": "code",
   "execution_count": 1,
   "metadata": {},
   "outputs": [],
   "source": [
    "from sklearn.datasets import make_circles\n",
    "\n",
    "n_samples = 1000\n",
    "\n",
    "X , y = make_circles(n_samples , noise = 0.03 , random_state = 42)\n"
   ]
  },
  {
   "cell_type": "code",
   "execution_count": 2,
   "metadata": {},
   "outputs": [
    {
     "data": {
      "text/plain": [
       "(1000, 1000)"
      ]
     },
     "execution_count": 2,
     "metadata": {},
     "output_type": "execute_result"
    }
   ],
   "source": [
    "len(X) , len(y)"
   ]
  },
  {
   "cell_type": "code",
   "execution_count": 3,
   "metadata": {},
   "outputs": [
    {
     "name": "stdout",
     "output_type": "stream",
     "text": [
      "[[ 0.75424625  0.23148074]\n",
      " [-0.75615888  0.15325888]\n",
      " [-0.81539193  0.17328203]\n",
      " [-0.39373073  0.69288277]\n",
      " [ 0.44220765 -0.89672343]]\n"
     ]
    }
   ],
   "source": [
    "print(X[:5])"
   ]
  },
  {
   "cell_type": "code",
   "execution_count": 4,
   "metadata": {},
   "outputs": [
    {
     "name": "stdout",
     "output_type": "stream",
     "text": [
      "[1 1 1 1 0]\n"
     ]
    }
   ],
   "source": [
    "print(y[:5])"
   ]
  },
  {
   "cell_type": "code",
   "execution_count": 5,
   "metadata": {},
   "outputs": [],
   "source": [
    "import matplotlib.pyplot as plt\n",
    "import numpy as np\n",
    "import pandas as pd"
   ]
  },
  {
   "cell_type": "code",
   "execution_count": 6,
   "metadata": {},
   "outputs": [],
   "source": [
    "Circles = pd.DataFrame({\"X1\": X[: , 0] , \"X2\": X[: , 1] , \n",
    "                        \"label\": y})"
   ]
  },
  {
   "cell_type": "code",
   "execution_count": 7,
   "metadata": {},
   "outputs": [
    {
     "data": {
      "text/html": [
       "<div>\n",
       "<style scoped>\n",
       "    .dataframe tbody tr th:only-of-type {\n",
       "        vertical-align: middle;\n",
       "    }\n",
       "\n",
       "    .dataframe tbody tr th {\n",
       "        vertical-align: top;\n",
       "    }\n",
       "\n",
       "    .dataframe thead th {\n",
       "        text-align: right;\n",
       "    }\n",
       "</style>\n",
       "<table border=\"1\" class=\"dataframe\">\n",
       "  <thead>\n",
       "    <tr style=\"text-align: right;\">\n",
       "      <th></th>\n",
       "      <th>X1</th>\n",
       "      <th>X2</th>\n",
       "      <th>label</th>\n",
       "    </tr>\n",
       "  </thead>\n",
       "  <tbody>\n",
       "    <tr>\n",
       "      <th>0</th>\n",
       "      <td>0.754246</td>\n",
       "      <td>0.231481</td>\n",
       "      <td>1</td>\n",
       "    </tr>\n",
       "    <tr>\n",
       "      <th>1</th>\n",
       "      <td>-0.756159</td>\n",
       "      <td>0.153259</td>\n",
       "      <td>1</td>\n",
       "    </tr>\n",
       "    <tr>\n",
       "      <th>2</th>\n",
       "      <td>-0.815392</td>\n",
       "      <td>0.173282</td>\n",
       "      <td>1</td>\n",
       "    </tr>\n",
       "    <tr>\n",
       "      <th>3</th>\n",
       "      <td>-0.393731</td>\n",
       "      <td>0.692883</td>\n",
       "      <td>1</td>\n",
       "    </tr>\n",
       "    <tr>\n",
       "      <th>4</th>\n",
       "      <td>0.442208</td>\n",
       "      <td>-0.896723</td>\n",
       "      <td>0</td>\n",
       "    </tr>\n",
       "    <tr>\n",
       "      <th>...</th>\n",
       "      <td>...</td>\n",
       "      <td>...</td>\n",
       "      <td>...</td>\n",
       "    </tr>\n",
       "    <tr>\n",
       "      <th>995</th>\n",
       "      <td>0.244054</td>\n",
       "      <td>0.944125</td>\n",
       "      <td>0</td>\n",
       "    </tr>\n",
       "    <tr>\n",
       "      <th>996</th>\n",
       "      <td>-0.978655</td>\n",
       "      <td>-0.272373</td>\n",
       "      <td>0</td>\n",
       "    </tr>\n",
       "    <tr>\n",
       "      <th>997</th>\n",
       "      <td>-0.136900</td>\n",
       "      <td>-0.810012</td>\n",
       "      <td>1</td>\n",
       "    </tr>\n",
       "    <tr>\n",
       "      <th>998</th>\n",
       "      <td>0.670362</td>\n",
       "      <td>-0.767502</td>\n",
       "      <td>0</td>\n",
       "    </tr>\n",
       "    <tr>\n",
       "      <th>999</th>\n",
       "      <td>0.281057</td>\n",
       "      <td>0.963824</td>\n",
       "      <td>0</td>\n",
       "    </tr>\n",
       "  </tbody>\n",
       "</table>\n",
       "<p>1000 rows × 3 columns</p>\n",
       "</div>"
      ],
      "text/plain": [
       "           X1        X2  label\n",
       "0    0.754246  0.231481      1\n",
       "1   -0.756159  0.153259      1\n",
       "2   -0.815392  0.173282      1\n",
       "3   -0.393731  0.692883      1\n",
       "4    0.442208 -0.896723      0\n",
       "..        ...       ...    ...\n",
       "995  0.244054  0.944125      0\n",
       "996 -0.978655 -0.272373      0\n",
       "997 -0.136900 -0.810012      1\n",
       "998  0.670362 -0.767502      0\n",
       "999  0.281057  0.963824      0\n",
       "\n",
       "[1000 rows x 3 columns]"
      ]
     },
     "execution_count": 7,
     "metadata": {},
     "output_type": "execute_result"
    }
   ],
   "source": [
    "Circles"
   ]
  },
  {
   "cell_type": "code",
   "execution_count": 8,
   "metadata": {},
   "outputs": [
    {
     "data": {
      "text/plain": [
       "<matplotlib.collections.PathCollection at 0x1ed98ece150>"
      ]
     },
     "execution_count": 8,
     "metadata": {},
     "output_type": "execute_result"
    },
    {
     "data": {
      "image/png": "[encoded data removed]",
      "text/plain": [
       "<Figure size 640x480 with 1 Axes>"
      ]
     },
     "metadata": {},
     "output_type": "display_data"
    }
   ],
   "source": [
    "plt.scatter(X[: , 0] , X[: , 1] , c = y , cmap = plt.cm.RdYlBu)"
   ]
  },
  {
   "cell_type": "markdown",
   "metadata": {},
   "source": [
    "1.1 Check Input and Output Shape"
   ]
  },
  {
   "cell_type": "code",
   "execution_count": 9,
   "metadata": {},
   "outputs": [
    {
     "data": {
      "text/plain": [
       "((1000, 2), (1000,))"
      ]
     },
     "execution_count": 9,
     "metadata": {},
     "output_type": "execute_result"
    }
   ],
   "source": [
    "X.shape , y.shape"
   ]
  },
  {
   "cell_type": "markdown",
   "metadata": {},
   "source": [
    "First Example of features and labels"
   ]
  },
  {
   "cell_type": "code",
   "execution_count": 10,
   "metadata": {},
   "outputs": [
    {
     "name": "stdout",
     "output_type": "stream",
     "text": [
      "[0.75424625 0.23148074] 1\n"
     ]
    }
   ],
   "source": [
    "X_sample = X[0]\n",
    "y_sample = y[0]\n",
    "\n",
    "print(X_sample , y_sample)"
   ]
  },
  {
   "cell_type": "markdown",
   "metadata": {},
   "source": [
    "1.2 Convert data into Tensors"
   ]
  },
  {
   "cell_type": "code",
   "execution_count": 11,
   "metadata": {},
   "outputs": [
    {
     "data": {
      "text/plain": [
       "'2.4.1+cpu'"
      ]
     },
     "execution_count": 11,
     "metadata": {},
     "output_type": "execute_result"
    }
   ],
   "source": [
    "import torch\n",
    "torch.__version__"
   ]
  },
  {
   "cell_type": "code",
   "execution_count": 12,
   "metadata": {},
   "outputs": [
    {
     "data": {
      "text/plain": [
       "(numpy.ndarray, dtype('float64'))"
      ]
     },
     "execution_count": 12,
     "metadata": {},
     "output_type": "execute_result"
    }
   ],
   "source": [
    "type(X) , X.dtype"
   ]
  },
  {
   "cell_type": "code",
   "execution_count": 13,
   "metadata": {},
   "outputs": [],
   "source": [
    "X = torch.from_numpy(X).type(torch.float)\n",
    "y = torch.from_numpy(y).type(torch.float)\n"
   ]
  },
  {
   "cell_type": "code",
   "execution_count": 14,
   "metadata": {},
   "outputs": [
    {
     "data": {
      "text/plain": [
       "(torch.Tensor, torch.float32)"
      ]
     },
     "execution_count": 14,
     "metadata": {},
     "output_type": "execute_result"
    }
   ],
   "source": [
    "type(X) , X.dtype"
   ]
  },
  {
   "cell_type": "markdown",
   "metadata": {},
   "source": [
    "1.3 Split the data"
   ]
  },
  {
   "cell_type": "code",
   "execution_count": 15,
   "metadata": {},
   "outputs": [],
   "source": [
    "from sklearn.model_selection import train_test_split\n",
    "\n",
    "X_train , X_test , y_train , y_test = train_test_split(X , y , test_size = 0.2 , random_state = 42)"
   ]
  },
  {
   "cell_type": "code",
   "execution_count": 16,
   "metadata": {},
   "outputs": [
    {
     "data": {
      "text/plain": [
       "(800, 800)"
      ]
     },
     "execution_count": 16,
     "metadata": {},
     "output_type": "execute_result"
    }
   ],
   "source": [
    "len(X_train) , len(y_train)"
   ]
  },
  {
   "cell_type": "code",
   "execution_count": 17,
   "metadata": {},
   "outputs": [
    {
     "data": {
      "text/plain": [
       "(200, 200)"
      ]
     },
     "execution_count": 17,
     "metadata": {},
     "output_type": "execute_result"
    }
   ],
   "source": [
    "len(X_test) , len(y_test)"
   ]
  },
  {
   "cell_type": "markdown",
   "metadata": {},
   "source": [
    "1.4 Build a model"
   ]
  },
  {
   "cell_type": "code",
   "execution_count": 18,
   "metadata": {},
   "outputs": [
    {
     "data": {
      "text/plain": [
       "'cpu'"
      ]
     },
     "execution_count": 18,
     "metadata": {},
     "output_type": "execute_result"
    }
   ],
   "source": [
    "from torch import nn\n",
    "\n",
    "device = \"cuda\" if torch.cuda.is_available() else \"cpu\"\n",
    "device"
   ]
  },
  {
   "cell_type": "code",
   "execution_count": 19,
   "metadata": {},
   "outputs": [
    {
     "data": {
      "text/plain": [
       "CircleModel(\n",
       "  (layer_1): Linear(in_features=2, out_features=5, bias=True)\n",
       "  (layer_2): Linear(in_features=5, out_features=1, bias=True)\n",
       ")"
      ]
     },
     "execution_count": 19,
     "metadata": {},
     "output_type": "execute_result"
    }
   ],
   "source": [
    "class CircleModel(nn.Module):\n",
    "    def __init__(self):\n",
    "        super().__init__()\n",
    "\n",
    "        self.layer_1 = nn.Linear(in_features=2 , out_features = 5)\n",
    "        self.layer_2 = nn.Linear(in_features = 5 , out_features=1)\n",
    "        \n",
    "    def forward(self , X):\n",
    "        return self.layer_2(self.layer_1(X)) # X -> layer_1 -> layer_2 -> output\n",
    "    \n",
    "\n",
    "\n",
    "\n",
    "model0 = CircleModel().to(device)\n",
    "\n",
    "model0\n",
    "\n"
   ]
  },
  {
   "cell_type": "code",
   "execution_count": 20,
   "metadata": {},
   "outputs": [
    {
     "data": {
      "text/plain": [
       "OrderedDict([('layer_1.weight',\n",
       "              tensor([[-0.1267, -0.1294],\n",
       "                      [-0.6915,  0.0297],\n",
       "                      [ 0.4754,  0.6969],\n",
       "                      [-0.4397, -0.3150],\n",
       "                      [ 0.2824, -0.6378]])),\n",
       "             ('layer_1.bias',\n",
       "              tensor([-0.1994,  0.4344, -0.5352, -0.4847, -0.0764])),\n",
       "             ('layer_2.weight',\n",
       "              tensor([[ 0.1270,  0.2495, -0.2126,  0.0668,  0.4382]])),\n",
       "             ('layer_2.bias', tensor([-0.4398]))])"
      ]
     },
     "execution_count": 20,
     "metadata": {},
     "output_type": "execute_result"
    }
   ],
   "source": [
    "model0.state_dict()"
   ]
  },
  {
   "cell_type": "code",
   "execution_count": 21,
   "metadata": {},
   "outputs": [
    {
     "data": {
      "text/plain": [
       "'cpu'"
      ]
     },
     "execution_count": 21,
     "metadata": {},
     "output_type": "execute_result"
    }
   ],
   "source": [
    "device"
   ]
  },
  {
   "cell_type": "code",
   "execution_count": 22,
   "metadata": {},
   "outputs": [
    {
     "data": {
      "text/plain": [
       "device(type='cpu')"
      ]
     },
     "execution_count": 22,
     "metadata": {},
     "output_type": "execute_result"
    }
   ],
   "source": [
    "next(model0.parameters()).device"
   ]
  },
  {
   "cell_type": "markdown",
   "metadata": {},
   "source": [
    "# Using nn.Sequential()"
   ]
  },
  {
   "cell_type": "code",
   "execution_count": 23,
   "metadata": {},
   "outputs": [
    {
     "data": {
      "text/plain": [
       "Sequential(\n",
       "  (0): Linear(in_features=2, out_features=5, bias=True)\n",
       "  (1): Linear(in_features=5, out_features=1, bias=True)\n",
       ")"
      ]
     },
     "execution_count": 23,
     "metadata": {},
     "output_type": "execute_result"
    }
   ],
   "source": [
    "model0 = nn.Sequential(\n",
    "    nn.Linear(2  , 5),\n",
    "    nn.Linear(5 , 1)\n",
    ").to(device)\n",
    "\n",
    "model0"
   ]
  },
  {
   "cell_type": "code",
   "execution_count": 24,
   "metadata": {},
   "outputs": [
    {
     "data": {
      "text/plain": [
       "OrderedDict([('0.weight',\n",
       "              tensor([[ 0.3041,  0.6322],\n",
       "                      [-0.2382, -0.3779],\n",
       "                      [-0.3643,  0.3899],\n",
       "                      [-0.5055,  0.1806],\n",
       "                      [ 0.0691,  0.0492]])),\n",
       "             ('0.bias', tensor([-0.3854, -0.0196,  0.3950, -0.5563,  0.4643])),\n",
       "             ('1.weight',\n",
       "              tensor([[-0.3402, -0.4367,  0.0841, -0.1382,  0.2632]])),\n",
       "             ('1.bias', tensor([0.2170]))])"
      ]
     },
     "execution_count": 24,
     "metadata": {},
     "output_type": "execute_result"
    }
   ],
   "source": [
    "model0.state_dict()"
   ]
  },
  {
   "cell_type": "markdown",
   "metadata": {},
   "source": [
    "Make Prediction"
   ]
  },
  {
   "cell_type": "code",
   "execution_count": 25,
   "metadata": {},
   "outputs": [],
   "source": [
    "with torch.inference_mode():\n",
    "\n",
    "    untrained_preds = model0(X_test.to(device))\n",
    "    len(untrained_preds)  , untrained_preds.shape"
   ]
  },
  {
   "cell_type": "code",
   "execution_count": 26,
   "metadata": {},
   "outputs": [
    {
     "data": {
      "text/plain": [
       "(tensor([[0.5473],\n",
       "         [0.5618],\n",
       "         [0.5574],\n",
       "         [0.5442],\n",
       "         [0.6341],\n",
       "         [0.6424],\n",
       "         [0.6226],\n",
       "         [0.6416],\n",
       "         [0.5542],\n",
       "         [0.5636]]),\n",
       " tensor([1., 0., 1., 0., 1., 1., 0., 0., 1., 0.]))"
      ]
     },
     "execution_count": 26,
     "metadata": {},
     "output_type": "execute_result"
    }
   ],
   "source": [
    "untrained_preds[:10] , y_test[:10]"
   ]
  },
  {
   "cell_type": "code",
   "execution_count": 27,
   "metadata": {},
   "outputs": [],
   "source": [
    "loss_fn = nn.BCEWithLogitsLoss() # Sigmoid Function builtin\n",
    "\n",
    "optimizer = torch.optim.SGD(params =model0.parameters() , lr = 0.1)"
   ]
  },
  {
   "cell_type": "code",
   "execution_count": 28,
   "metadata": {},
   "outputs": [],
   "source": [
    "# Calculate Accuracy\n",
    "\n",
    "\n",
    "def accuracy(y_true , y_pred):\n",
    "    correct = torch.eq(y_true , y_pred).sum().item()\n",
    "    acc = (correct/len(y_pred)) * 100\n",
    "    return acc\n",
    "\n"
   ]
  },
  {
   "cell_type": "code",
   "execution_count": 29,
   "metadata": {},
   "outputs": [
    {
     "data": {
      "text/plain": [
       "tensor([[0.5473],\n",
       "        [0.5618],\n",
       "        [0.5574],\n",
       "        [0.5442],\n",
       "        [0.6341]])"
      ]
     },
     "execution_count": 29,
     "metadata": {},
     "output_type": "execute_result"
    }
   ],
   "source": [
    "with torch.no_grad():\n",
    "    y_logits = model0(X_test.to(device))[:5]\n",
    "y_logits"
   ]
  },
  {
   "cell_type": "code",
   "execution_count": 30,
   "metadata": {},
   "outputs": [
    {
     "data": {
      "text/plain": [
       "tensor([1., 0., 1., 0., 1.])"
      ]
     },
     "execution_count": 30,
     "metadata": {},
     "output_type": "execute_result"
    }
   ],
   "source": [
    "y_test[:5]"
   ]
  },
  {
   "cell_type": "code",
   "execution_count": 31,
   "metadata": {},
   "outputs": [],
   "source": [
    "y_pred_probs = torch.sigmoid(y_logits)\n",
    "y_preds = torch.round(y_pred_probs)"
   ]
  },
  {
   "cell_type": "markdown",
   "metadata": {},
   "source": [
    "TRAIN MODEL"
   ]
  },
  {
   "cell_type": "code",
   "execution_count": 32,
   "metadata": {},
   "outputs": [
    {
     "name": "stdout",
     "output_type": "stream",
     "text": [
      "Epoch : 0 | Loss:  0.74 | Acc: 50.000 | Test Loss:  0.731 | Test Acc: 50.0\n",
      "Epoch : 10 | Loss:  0.71 | Acc: 50.000 | Test Loss:  0.707 | Test Acc: 50.0\n",
      "Epoch : 20 | Loss:  0.70 | Acc: 50.000 | Test Loss:  0.699 | Test Acc: 50.0\n",
      "Epoch : 30 | Loss:  0.69 | Acc: 50.000 | Test Loss:  0.696 | Test Acc: 50.0\n",
      "Epoch : 40 | Loss:  0.69 | Acc: 50.000 | Test Loss:  0.695 | Test Acc: 50.0\n",
      "Epoch : 50 | Loss:  0.69 | Acc: 59.500 | Test Loss:  0.695 | Test Acc: 54.50000000000001\n",
      "Epoch : 60 | Loss:  0.69 | Acc: 53.375 | Test Loss:  0.695 | Test Acc: 48.0\n",
      "Epoch : 70 | Loss:  0.69 | Acc: 51.875 | Test Loss:  0.695 | Test Acc: 46.0\n",
      "Epoch : 80 | Loss:  0.69 | Acc: 51.875 | Test Loss:  0.695 | Test Acc: 46.5\n",
      "Epoch : 90 | Loss:  0.69 | Acc: 51.875 | Test Loss:  0.695 | Test Acc: 47.0\n"
     ]
    }
   ],
   "source": [
    "torch.manual_seed(42)\n",
    "torch.cuda.manual_seed(42)\n",
    "\n",
    "epochs = 100\n",
    "\n",
    "X_train , y_train = X_train.to(device) , y_train.to(device)\n",
    "X_test , y_test = X_test.to(device) , y_test.to(device)\n",
    "\n",
    "for epoch in range(epochs):\n",
    "\n",
    "    model0.train()\n",
    "\n",
    "    # Forward\n",
    "\n",
    "    y_logits = model0(X_train).squeeze()\n",
    "    y_pred = torch.round(torch.sigmoid(y_logits))\n",
    "\n",
    "    loss = loss_fn(y_logits , y_train)\n",
    "    acc  = accuracy(y_train , y_pred)\n",
    "\n",
    "    optimizer.zero_grad()\n",
    "\n",
    "    loss.backward()\n",
    "    optimizer.step()\n",
    "\n",
    "\n",
    "    model0.eval()\n",
    "\n",
    "    with torch.inference_mode():\n",
    "\n",
    "        test_logits = model0(X_test).squeeze()\n",
    "        test_pred = torch.round(torch.sigmoid(test_logits))\n",
    "\n",
    "        test_loss = loss_fn(test_logits , y_test)\n",
    "\n",
    "        test_acc = accuracy(y_test , test_pred)\n",
    "\n",
    "    \n",
    "    if epoch%10 == 0:\n",
    "        print(f\"Epoch : {epoch} | Loss: {loss: .2f} | Acc: {acc:.3f} | Test Loss: {test_loss: .3f} | Test Acc: {test_acc}\")\n",
    "\n",
    "\n",
    "\n",
    "\n",
    "\n",
    "\n"
   ]
  },
  {
   "cell_type": "markdown",
   "metadata": {},
   "source": [
    "Make Prediction"
   ]
  },
  {
   "cell_type": "code",
   "execution_count": 33,
   "metadata": {},
   "outputs": [
    {
     "name": "stdout",
     "output_type": "stream",
     "text": [
      "It already exists\n"
     ]
    }
   ],
   "source": [
    "import requests\n",
    "from pathlib import Path\n",
    "\n",
    "# Download Helper function from Learn Pytorch repo\n",
    "if Path(\"helper_function.py\").is_file():\n",
    "    print(\"It already exists\")\n",
    "else:\n",
    "    print(\"Downloading Helper Function\")\n",
    "    # Use the raw URL to download the file\n",
    "    request = requests.get(\"https://raw.githubusercontent.com/mrdbourke/pytorch-deep-learning/main/helper_functions.py\")\n",
    "\n",
    "    if request.status_code == 200:\n",
    "        with open(\"helper_function.py\", \"wb\") as f:\n",
    "            f.write(request.content)\n",
    "        print(\"Download complete.\")\n",
    "    else:\n",
    "        print(f\"Failed to download file. Status code: {request.status_code}\")\n"
   ]
  },
  {
   "cell_type": "markdown",
   "metadata": {},
   "source": [
    "Using Non Linear Activation Function"
   ]
  },
  {
   "cell_type": "code",
   "execution_count": 34,
   "metadata": {},
   "outputs": [],
   "source": [
    "import matplotlib.pyplot as plt\n",
    "import numpy as np\n",
    "from sklearn.datasets import make_circles\n",
    "import torch\n"
   ]
  },
  {
   "cell_type": "code",
   "execution_count": 35,
   "metadata": {},
   "outputs": [],
   "source": [
    "X , y = make_circles(1000 , noise=0.04 , random_state = 32)"
   ]
  },
  {
   "cell_type": "code",
   "execution_count": 36,
   "metadata": {},
   "outputs": [
    {
     "data": {
      "text/plain": [
       "((1000, 2), (1000,))"
      ]
     },
     "execution_count": 36,
     "metadata": {},
     "output_type": "execute_result"
    }
   ],
   "source": [
    "X.shape , y.shape"
   ]
  },
  {
   "cell_type": "code",
   "execution_count": 37,
   "metadata": {},
   "outputs": [
    {
     "data": {
      "text/plain": [
       "<matplotlib.collections.PathCollection at 0x1eda666eb10>"
      ]
     },
     "execution_count": 37,
     "metadata": {},
     "output_type": "execute_result"
    },
    {
     "data": {
      "image/png": "[encoded data removed]",
      "text/plain": [
       "<Figure size 640x480 with 1 Axes>"
      ]
     },
     "metadata": {},
     "output_type": "display_data"
    }
   ],
   "source": [
    "plt.scatter(X[: , 0] , X[: , 1] , c = y , cmap = plt.cm.RdBu)"
   ]
  },
  {
   "cell_type": "code",
   "execution_count": 38,
   "metadata": {},
   "outputs": [
    {
     "data": {
      "text/plain": [
       "(array([[-0.0733402 ,  0.74188676],\n",
       "        [-0.50533388,  0.52196175],\n",
       "        [-0.42116452, -0.69026065],\n",
       "        ...,\n",
       "        [ 0.27266564, -0.72948152],\n",
       "        [ 0.53369019,  0.47358908],\n",
       "        [-0.78403893,  0.2533651 ]]),\n",
       " dtype('float64'))"
      ]
     },
     "execution_count": 38,
     "metadata": {},
     "output_type": "execute_result"
    }
   ],
   "source": [
    "X , X.dtype"
   ]
  },
  {
   "cell_type": "code",
   "execution_count": 39,
   "metadata": {},
   "outputs": [],
   "source": [
    "X = torch.from_numpy(X).type(torch.float)\n",
    "y = torch.from_numpy(y).type(torch.float)"
   ]
  },
  {
   "cell_type": "code",
   "execution_count": 40,
   "metadata": {},
   "outputs": [],
   "source": [
    "from sklearn.model_selection import train_test_split\n",
    "\n",
    "X_train , X_test , y_train , y_test1= train_test_split(X , y ,test_size = 0.2 , random_state=32)"
   ]
  },
  {
   "cell_type": "code",
   "execution_count": 41,
   "metadata": {},
   "outputs": [
    {
     "data": {
      "text/plain": [
       "(torch.Size([800]), torch.Size([200]))"
      ]
     },
     "execution_count": 41,
     "metadata": {},
     "output_type": "execute_result"
    }
   ],
   "source": [
    "y_train.shape , y_test1.shape"
   ]
  },
  {
   "cell_type": "code",
   "execution_count": 42,
   "metadata": {},
   "outputs": [
    {
     "data": {
      "text/plain": [
       "(torch.Size([800, 2]), torch.Size([200, 2]))"
      ]
     },
     "execution_count": 42,
     "metadata": {},
     "output_type": "execute_result"
    }
   ],
   "source": [
    "X_train.shape , X_test.shape"
   ]
  },
  {
   "cell_type": "code",
   "execution_count": 43,
   "metadata": {},
   "outputs": [
    {
     "data": {
      "text/plain": [
       "'cpu'"
      ]
     },
     "execution_count": 43,
     "metadata": {},
     "output_type": "execute_result"
    }
   ],
   "source": [
    "device = \"cuda\" if torch.cuda.is_available() else \"cpu\"\n",
    "device"
   ]
  },
  {
   "cell_type": "code",
   "execution_count": 44,
   "metadata": {},
   "outputs": [
    {
     "data": {
      "text/plain": [
       "(torch.Size([800, 2]), torch.float32)"
      ]
     },
     "execution_count": 44,
     "metadata": {},
     "output_type": "execute_result"
    }
   ],
   "source": [
    "X_train.shape , X_train.dtype"
   ]
  },
  {
   "cell_type": "code",
   "execution_count": 45,
   "metadata": {},
   "outputs": [
    {
     "data": {
      "text/plain": [
       "NonLinearModel(\n",
       "  (layer1): Linear(in_features=2, out_features=32, bias=True)\n",
       "  (layer2): Linear(in_features=32, out_features=64, bias=True)\n",
       "  (layer3): Linear(in_features=64, out_features=1, bias=True)\n",
       "  (relu): ReLU()\n",
       ")"
      ]
     },
     "execution_count": 45,
     "metadata": {},
     "output_type": "execute_result"
    }
   ],
   "source": [
    "from torch import nn\n",
    "\n",
    "class NonLinearModel(nn.Module):\n",
    "    def __init__(self):\n",
    "        super().__init__()\n",
    "\n",
    "        self.layer1 = nn.Linear(2 , 32)\n",
    "        self.layer2 = nn.Linear(32 , 64)\n",
    "        self.layer3 = nn.Linear(64 , 1)\n",
    "        self.relu = nn.ReLU()\n",
    "    \n",
    "    def forward(self , x):\n",
    "        x = self.relu(self.layer1(x))\n",
    "        x = self.relu(self.layer2(x))\n",
    "        x = self.layer3(x)\n",
    "        # return self.layer3((self.relu(self.layer2(self.relu(self.layer1(x))))))\n",
    "        return x\n",
    "model = NonLinearModel()\n",
    "model.to(device)"
   ]
  },
  {
   "cell_type": "code",
   "execution_count": 46,
   "metadata": {},
   "outputs": [
    {
     "data": {
      "text/plain": [
       "device(type='cpu')"
      ]
     },
     "execution_count": 46,
     "metadata": {},
     "output_type": "execute_result"
    }
   ],
   "source": [
    "next(model.parameters()).device"
   ]
  },
  {
   "cell_type": "code",
   "execution_count": 47,
   "metadata": {},
   "outputs": [],
   "source": [
    "\n",
    "def acc(y_true , y_pred):\n",
    "\n",
    "    correct = torch.eq(y_true , y_pred).sum().item()\n",
    "\n",
    "    acc = (correct / len(y_pred))*100\n",
    "    return acc"
   ]
  },
  {
   "cell_type": "code",
   "execution_count": 48,
   "metadata": {},
   "outputs": [],
   "source": [
    "loss_fn = nn.BCEWithLogitsLoss()\n",
    "\n",
    "optimizer = torch.optim.SGD(model.parameters() , lr = 0.01)\n"
   ]
  },
  {
   "cell_type": "code",
   "execution_count": null,
   "metadata": {},
   "outputs": [],
   "source": []
  },
  {
   "cell_type": "code",
   "execution_count": 49,
   "metadata": {},
   "outputs": [
    {
     "name": "stdout",
     "output_type": "stream",
     "text": [
      "Epoch : 0 | loss: 0.6920412182807922 | Acc: 51.74999999999999 | Test_loss: 0.6992850303649902 | Test_acc: 43.0\n",
      "Epoch : 10 | loss: 0.6919166445732117 | Acc: 51.74999999999999 | Test_loss: 0.6989244818687439 | Test_acc: 43.0\n",
      "Epoch : 20 | loss: 0.6917961239814758 | Acc: 51.74999999999999 | Test_loss: 0.6985867023468018 | Test_acc: 43.0\n",
      "Epoch : 30 | loss: 0.6916797757148743 | Acc: 51.74999999999999 | Test_loss: 0.6982699632644653 | Test_acc: 43.0\n",
      "Epoch : 40 | loss: 0.691567063331604 | Acc: 51.74999999999999 | Test_loss: 0.6979720592498779 | Test_acc: 43.0\n",
      "Epoch : 50 | loss: 0.691457986831665 | Acc: 51.74999999999999 | Test_loss: 0.6976920366287231 | Test_acc: 43.0\n",
      "Epoch : 60 | loss: 0.6913515329360962 | Acc: 51.74999999999999 | Test_loss: 0.6974276900291443 | Test_acc: 43.0\n",
      "Epoch : 70 | loss: 0.6912487149238586 | Acc: 51.74999999999999 | Test_loss: 0.6971790790557861 | Test_acc: 43.0\n",
      "Epoch : 80 | loss: 0.6911489963531494 | Acc: 51.74999999999999 | Test_loss: 0.6969444751739502 | Test_acc: 43.0\n",
      "Epoch : 90 | loss: 0.6910523176193237 | Acc: 52.0 | Test_loss: 0.696723222732544 | Test_acc: 43.0\n"
     ]
    }
   ],
   "source": [
    "torch.manual_seed(42)\n",
    "torch.cuda.manual_seed(42)\n",
    "\n",
    "epochs = 100\n",
    "\n",
    "X_train , y_train = X_train.to(device) , y_train.to(device)\n",
    "X_test , y_test = X_test.to(device) , y_train.to(device)\n",
    "\n",
    "\n",
    "\n",
    "for epoch in range(epochs):\n",
    "\n",
    "    model.train()\n",
    "\n",
    "    logits = model(X_train).squeeze()\n",
    "    pred = torch.round(torch.sigmoid(logits))\n",
    "\n",
    "\n",
    "    acc = accuracy(y_train , pred)\n",
    "    loss = loss_fn(logits , y_train)\n",
    "    \n",
    "    optimizer.zero_grad()\n",
    "\n",
    "    loss.backward()\n",
    "    optimizer.step()\n",
    "\n",
    "    model.eval()\n",
    "    with torch.inference_mode():\n",
    "\n",
    "        test_logits = model(X_test).squeeze()\n",
    "        # print(test_logits.shape)\n",
    "        test_pred = torch.round(torch.sigmoid(test_logits))\n",
    "        \n",
    "        # print(test_pred.shape)\n",
    "        # print(y_test.shape)\n",
    "        test_acc = accuracy(y_test1 , test_pred)\n",
    "        test_loss = loss_fn(test_logits , y_test1)\n",
    "\n",
    "    if epoch %10 ==0:\n",
    "        print(f\"Epoch : {epoch} | loss: {loss} | Acc: {acc} | Test_loss: {test_loss} | Test_acc: {test_acc}\")\n",
    "\n",
    "\n",
    "\n",
    "    \n",
    "\n",
    "    "
   ]
  },
  {
   "cell_type": "code",
   "execution_count": 87,
   "metadata": {},
   "outputs": [],
   "source": [
    "import numpy as np \n",
    "import pandas as pd\n",
    "from sklearn.model_selection import train_test_split \n",
    "from sklearn.datasets import make_circles\n",
    "\n",
    "X , y = make_circles(10000 , noise=0.04 , random_state=42)\n"
   ]
  },
  {
   "cell_type": "code",
   "execution_count": 88,
   "metadata": {},
   "outputs": [
    {
     "data": {
      "text/plain": [
       "array([[ 0.06262915,  0.83303863],\n",
       "       [ 1.03268848, -0.44888765],\n",
       "       [-0.58854477,  0.78509809],\n",
       "       [ 0.99707666, -0.3273843 ],\n",
       "       [ 0.83182545, -0.5408862 ]])"
      ]
     },
     "execution_count": 88,
     "metadata": {},
     "output_type": "execute_result"
    }
   ],
   "source": [
    "X[:5]"
   ]
  },
  {
   "cell_type": "code",
   "execution_count": 89,
   "metadata": {},
   "outputs": [],
   "source": [
    "dataset = pd.DataFrame({\"X\": X[: , 0] , \"Y\": X[: , 1] , \"Labels\": y})"
   ]
  },
  {
   "cell_type": "code",
   "execution_count": 90,
   "metadata": {},
   "outputs": [
    {
     "data": {
      "text/html": [
       "<div>\n",
       "<style scoped>\n",
       "    .dataframe tbody tr th:only-of-type {\n",
       "        vertical-align: middle;\n",
       "    }\n",
       "\n",
       "    .dataframe tbody tr th {\n",
       "        vertical-align: top;\n",
       "    }\n",
       "\n",
       "    .dataframe thead th {\n",
       "        text-align: right;\n",
       "    }\n",
       "</style>\n",
       "<table border=\"1\" class=\"dataframe\">\n",
       "  <thead>\n",
       "    <tr style=\"text-align: right;\">\n",
       "      <th></th>\n",
       "      <th>X</th>\n",
       "      <th>Y</th>\n",
       "      <th>Labels</th>\n",
       "    </tr>\n",
       "  </thead>\n",
       "  <tbody>\n",
       "    <tr>\n",
       "      <th>0</th>\n",
       "      <td>0.062629</td>\n",
       "      <td>0.833039</td>\n",
       "      <td>1</td>\n",
       "    </tr>\n",
       "    <tr>\n",
       "      <th>1</th>\n",
       "      <td>1.032688</td>\n",
       "      <td>-0.448888</td>\n",
       "      <td>0</td>\n",
       "    </tr>\n",
       "    <tr>\n",
       "      <th>2</th>\n",
       "      <td>-0.588545</td>\n",
       "      <td>0.785098</td>\n",
       "      <td>0</td>\n",
       "    </tr>\n",
       "    <tr>\n",
       "      <th>3</th>\n",
       "      <td>0.997077</td>\n",
       "      <td>-0.327384</td>\n",
       "      <td>0</td>\n",
       "    </tr>\n",
       "    <tr>\n",
       "      <th>4</th>\n",
       "      <td>0.831825</td>\n",
       "      <td>-0.540886</td>\n",
       "      <td>0</td>\n",
       "    </tr>\n",
       "    <tr>\n",
       "      <th>...</th>\n",
       "      <td>...</td>\n",
       "      <td>...</td>\n",
       "      <td>...</td>\n",
       "    </tr>\n",
       "    <tr>\n",
       "      <th>9995</th>\n",
       "      <td>0.513303</td>\n",
       "      <td>0.671087</td>\n",
       "      <td>1</td>\n",
       "    </tr>\n",
       "    <tr>\n",
       "      <th>9996</th>\n",
       "      <td>0.795177</td>\n",
       "      <td>0.227683</td>\n",
       "      <td>1</td>\n",
       "    </tr>\n",
       "    <tr>\n",
       "      <th>9997</th>\n",
       "      <td>0.678666</td>\n",
       "      <td>0.371785</td>\n",
       "      <td>1</td>\n",
       "    </tr>\n",
       "    <tr>\n",
       "      <th>9998</th>\n",
       "      <td>0.475636</td>\n",
       "      <td>0.885796</td>\n",
       "      <td>0</td>\n",
       "    </tr>\n",
       "    <tr>\n",
       "      <th>9999</th>\n",
       "      <td>-0.643608</td>\n",
       "      <td>0.271926</td>\n",
       "      <td>1</td>\n",
       "    </tr>\n",
       "  </tbody>\n",
       "</table>\n",
       "<p>10000 rows × 3 columns</p>\n",
       "</div>"
      ],
      "text/plain": [
       "             X         Y  Labels\n",
       "0     0.062629  0.833039       1\n",
       "1     1.032688 -0.448888       0\n",
       "2    -0.588545  0.785098       0\n",
       "3     0.997077 -0.327384       0\n",
       "4     0.831825 -0.540886       0\n",
       "...        ...       ...     ...\n",
       "9995  0.513303  0.671087       1\n",
       "9996  0.795177  0.227683       1\n",
       "9997  0.678666  0.371785       1\n",
       "9998  0.475636  0.885796       0\n",
       "9999 -0.643608  0.271926       1\n",
       "\n",
       "[10000 rows x 3 columns]"
      ]
     },
     "execution_count": 90,
     "metadata": {},
     "output_type": "execute_result"
    }
   ],
   "source": [
    "dataset"
   ]
  },
  {
   "cell_type": "code",
   "execution_count": 91,
   "metadata": {},
   "outputs": [
    {
     "data": {
      "text/plain": [
       "<matplotlib.collections.PathCollection at 0x1eda8396850>"
      ]
     },
     "execution_count": 91,
     "metadata": {},
     "output_type": "execute_result"
    },
    {
     "data": {
      "image/png": "[encoded data removed]",
      "text/plain": [
       "<Figure size 640x480 with 1 Axes>"
      ]
     },
     "metadata": {},
     "output_type": "display_data"
    }
   ],
   "source": [
    "import matplotlib.pyplot as plt\n",
    "\n",
    "plt.scatter(X[: , 0] , X[: , 1] , c = y , cmap = plt.cm.RdBu)"
   ]
  },
  {
   "cell_type": "code",
   "execution_count": 92,
   "metadata": {},
   "outputs": [
    {
     "data": {
      "text/plain": [
       "dtype('float64')"
      ]
     },
     "execution_count": 92,
     "metadata": {},
     "output_type": "execute_result"
    }
   ],
   "source": [
    "X.dtype\n"
   ]
  },
  {
   "cell_type": "code",
   "execution_count": 93,
   "metadata": {},
   "outputs": [
    {
     "data": {
      "text/plain": [
       "torch.float32"
      ]
     },
     "execution_count": 93,
     "metadata": {},
     "output_type": "execute_result"
    }
   ],
   "source": [
    "import torch \n",
    "\n",
    "X = torch.from_numpy(X).type(torch.float)\n",
    "y = torch.from_numpy(y).type(torch.float)\n",
    "\n",
    "X.dtype\n",
    "\n"
   ]
  },
  {
   "cell_type": "code",
   "execution_count": 94,
   "metadata": {},
   "outputs": [],
   "source": [
    "X_train , X_test , y_train , y_test  = train_test_split(X , y , test_size = 0.2 , random_state = 43)\n"
   ]
  },
  {
   "cell_type": "code",
   "execution_count": 95,
   "metadata": {},
   "outputs": [
    {
     "data": {
      "text/plain": [
       "(torch.Size([8000, 2]),\n",
       " torch.Size([2000, 2]),\n",
       " torch.Size([8000]),\n",
       " torch.Size([2000]))"
      ]
     },
     "execution_count": 95,
     "metadata": {},
     "output_type": "execute_result"
    }
   ],
   "source": [
    "X_train.shape , X_test.shape , y_train.shape , y_test.shape"
   ]
  },
  {
   "cell_type": "code",
   "execution_count": 96,
   "metadata": {},
   "outputs": [
    {
     "data": {
      "text/plain": [
       "'cpu'"
      ]
     },
     "execution_count": 96,
     "metadata": {},
     "output_type": "execute_result"
    }
   ],
   "source": [
    "device = \"cuda\" if torch.cuda.is_available() else \"cpu\"\n",
    "\n",
    "device"
   ]
  },
  {
   "cell_type": "code",
   "execution_count": 97,
   "metadata": {},
   "outputs": [
    {
     "data": {
      "text/plain": [
       "ModelV2(\n",
       "  (layer1): Linear(in_features=2, out_features=10, bias=True)\n",
       "  (layer2): Linear(in_features=10, out_features=10, bias=True)\n",
       "  (layer3): Linear(in_features=10, out_features=1, bias=True)\n",
       "  (relu): ReLU()\n",
       ")"
      ]
     },
     "execution_count": 97,
     "metadata": {},
     "output_type": "execute_result"
    }
   ],
   "source": [
    "from torch import nn\n",
    "\n",
    "class ModelV2(nn.Module):\n",
    "    def __init__(self):\n",
    "\n",
    "        super().__init__()\n",
    "        self.layer1 = nn.Linear(in_features=2 , out_features=10)\n",
    "        self.layer2 = nn.Linear(10 , 10)\n",
    "        self.layer3 = nn.Linear(10 , 1)\n",
    "        self.relu = nn.ReLU()\n",
    "\n",
    "    def forward(self , x):\n",
    "        return self.layer3(self.relu(self.layer2(self.relu(self.layer1(x)))))\n",
    "    \n",
    "\n",
    "model3 = ModelV2().to(device)\n",
    "model3 "
   ]
  },
  {
   "cell_type": "code",
   "execution_count": 98,
   "metadata": {},
   "outputs": [
    {
     "data": {
      "text/plain": [
       "Sequential(\n",
       "  (0): Linear(in_features=2, out_features=10, bias=True)\n",
       "  (1): ReLU()\n",
       "  (2): Linear(in_features=10, out_features=10, bias=True)\n",
       "  (3): ReLU()\n",
       "  (4): Linear(in_features=10, out_features=1, bias=True)\n",
       ")"
      ]
     },
     "execution_count": 98,
     "metadata": {},
     "output_type": "execute_result"
    }
   ],
   "source": [
    "model_3 = nn.Sequential(\n",
    "    nn.Linear(2 , 10),\n",
    "    nn.ReLU(),\n",
    "    nn.Linear(10 , 10),\n",
    "    nn.ReLU() , \n",
    "    nn.Linear(10 , 1)\n",
    "\n",
    "    \n",
    "    \n",
    "    ).to(device)\n",
    "\n",
    "model_3"
   ]
  },
  {
   "cell_type": "code",
   "execution_count": 99,
   "metadata": {},
   "outputs": [],
   "source": [
    "loss_fn = nn.BCEWithLogitsLoss()\n",
    "\n",
    "optimizer = torch.optim.SGD(model3.parameters() , lr = 0.01)"
   ]
  },
  {
   "cell_type": "code",
   "execution_count": 103,
   "metadata": {},
   "outputs": [
    {
     "name": "stdout",
     "output_type": "stream",
     "text": [
      "Epoch: 1000  | Loss: 0.7053796052932739  | test_loss: 0.705142080783844  | Accuracy: 50.1\n",
      "Epoch: 1000  | Loss: 0.7053796052932739  | test_loss: 0.705142080783844  | Accuracy: 50.1\n",
      "Epoch: 1000  | Loss: 0.7053796052932739  | test_loss: 0.705142080783844  | Accuracy: 50.1\n",
      "Epoch: 1000  | Loss: 0.7053796052932739  | test_loss: 0.705142080783844  | Accuracy: 50.1\n",
      "Epoch: 1000  | Loss: 0.7053796052932739  | test_loss: 0.705142080783844  | Accuracy: 50.1\n",
      "Epoch: 1000  | Loss: 0.7053796052932739  | test_loss: 0.705142080783844  | Accuracy: 50.1\n",
      "Epoch: 1000  | Loss: 0.7053796052932739  | test_loss: 0.705142080783844  | Accuracy: 50.1\n",
      "Epoch: 1000  | Loss: 0.7053796052932739  | test_loss: 0.705142080783844  | Accuracy: 50.1\n",
      "Epoch: 1000  | Loss: 0.7053796052932739  | test_loss: 0.705142080783844  | Accuracy: 50.1\n",
      "Epoch: 1000  | Loss: 0.7053796052932739  | test_loss: 0.705142080783844  | Accuracy: 50.1\n"
     ]
    }
   ],
   "source": [
    "torch.manual_seed(43)\n",
    "torch.cuda.manual_seed(43)\n",
    "\n",
    "X_train , y_train = X_train.to(device) , y_train.to(device)\n",
    "X_test , y_test = X_test.to(device) , y_test.to(device)\n",
    "\n",
    "epochs = 1000\n",
    "\n",
    "for epoch in range(epochs):\n",
    "    model_3.train()\n",
    "\n",
    "    #Forward\n",
    "    y_logits = model_3(X_train).squeeze()\n",
    "    y_pred = torch.round(torch.sigmoid(y_logits))\n",
    "\n",
    "    #Calcluate the loss\n",
    "\n",
    "    loss = loss_fn(y_logits , y_train)\n",
    "    acc = accuracy(y_true=y_train, \n",
    "                   y_pred=y_pred)\n",
    "    \n",
    "    #Optimizer\n",
    "    optimizer.zero_grad()\n",
    "\n",
    "    #loss\n",
    "    loss.backward()\n",
    "\n",
    "    #optimizer\n",
    "    optimizer.step()\n",
    "\n",
    "\n",
    "    #Test \n",
    "    model_3.eval()\n",
    "\n",
    "    with torch.inference_mode():\n",
    "        test_logits = model_3(X_test).squeeze()\n",
    "\n",
    "        test_pred = torch.round(torch.sigmoid(test_logits))\n",
    "\n",
    "        test_loss = loss_fn(test_logits , y_test)\n",
    "\n",
    "        test_acc = accuracy(y_test , test_pred)\n",
    "\n",
    "        if epoch%100 ==0:\n",
    "            print(f\"Epoch: {epochs}  | Loss: {loss}  | test_loss: {test_loss}  | Accuracy: {acc}\")    "
   ]
  },
  {
   "cell_type": "code",
   "execution_count": 101,
   "metadata": {},
   "outputs": [
    {
     "data": {
      "text/plain": [
       "OrderedDict([('layer1.weight',\n",
       "              tensor([[-0.0651, -0.4292],\n",
       "                      [ 0.5954, -0.2175],\n",
       "                      [-0.4977, -0.5857],\n",
       "                      [ 0.1286, -0.6139],\n",
       "                      [ 0.3502,  0.1772],\n",
       "                      [ 0.6211, -0.5179],\n",
       "                      [ 0.0270,  0.0474],\n",
       "                      [ 0.0531,  0.2911],\n",
       "                      [-0.1025, -0.3166],\n",
       "                      [ 0.4802, -0.4861]])),\n",
       "             ('layer1.bias',\n",
       "              tensor([-0.5555,  0.3198, -0.2488,  0.5505, -0.5207,  0.4772,  0.0884, -0.1219,\n",
       "                       0.5120, -0.3121])),\n",
       "             ('layer2.weight',\n",
       "              tensor([[ 0.0528, -0.1083,  0.1121,  0.1294,  0.2661, -0.1684,  0.0795, -0.0238,\n",
       "                        0.2312, -0.2091],\n",
       "                      [-0.1085,  0.2317,  0.1234, -0.0853,  0.0990,  0.1164, -0.0955, -0.2551,\n",
       "                       -0.2440,  0.1905],\n",
       "                      [-0.0319,  0.1652, -0.2403,  0.2791,  0.0994, -0.0191, -0.1335, -0.0544,\n",
       "                       -0.2213, -0.2680],\n",
       "                      [-0.1182,  0.1901, -0.2784,  0.2367,  0.1598, -0.2274,  0.2604,  0.0882,\n",
       "                       -0.0504,  0.0340],\n",
       "                      [ 0.0744,  0.2033,  0.3157,  0.0864, -0.0218,  0.0315,  0.0815, -0.1115,\n",
       "                       -0.1176, -0.3073],\n",
       "                      [ 0.3025, -0.1358, -0.0253, -0.2705, -0.0352,  0.2552, -0.2673,  0.1362,\n",
       "                        0.2967, -0.3000],\n",
       "                      [ 0.0272,  0.1038,  0.0426,  0.0091,  0.2936,  0.2876,  0.0175,  0.1382,\n",
       "                       -0.0920, -0.1245],\n",
       "                      [-0.0973,  0.2131,  0.2756,  0.2138,  0.0188,  0.1014, -0.1383, -0.0502,\n",
       "                       -0.2473,  0.1251],\n",
       "                      [-0.1933,  0.3063,  0.0362,  0.1607, -0.0587,  0.0768, -0.2863, -0.2577,\n",
       "                       -0.1589,  0.3066],\n",
       "                      [ 0.1625,  0.1734,  0.3070,  0.1522,  0.1323, -0.1084, -0.1106,  0.2263,\n",
       "                        0.2697, -0.2144]])),\n",
       "             ('layer2.bias',\n",
       "              tensor([ 0.1277, -0.0676,  0.3077, -0.0371, -0.0551, -0.0264, -0.0449,  0.2803,\n",
       "                      -0.1202,  0.1291])),\n",
       "             ('layer3.weight',\n",
       "              tensor([[ 0.0346,  0.2561,  0.1947, -0.2055, -0.0447, -0.0113, -0.0901,  0.2298,\n",
       "                        0.3079, -0.2619]])),\n",
       "             ('layer3.bias', tensor([-0.1251]))])"
      ]
     },
     "execution_count": 101,
     "metadata": {},
     "output_type": "execute_result"
    }
   ],
   "source": [
    "model3.state_dict()"
   ]
  },
  {
   "cell_type": "code",
   "execution_count": 105,
   "metadata": {},
   "outputs": [],
   "source": [
    "A = torch.arange(-10 , 10 , 1 , dtype = torch.float32)"
   ]
  },
  {
   "cell_type": "code",
   "execution_count": 106,
   "metadata": {},
   "outputs": [
    {
     "data": {
      "text/plain": [
       "[<matplotlib.lines.Line2D at 0x1edae954cd0>]"
      ]
     },
     "execution_count": 106,
     "metadata": {},
     "output_type": "execute_result"
    },
    {
     "data": {
      "image/png": "[encoded data removed]",
      "text/plain": [
       "<Figure size 640x480 with 1 Axes>"
      ]
     },
     "metadata": {},
     "output_type": "display_data"
    }
   ],
   "source": [
    "plt.plot(torch.relu(A))"
   ]
  },
  {
   "cell_type": "code",
   "execution_count": 107,
   "metadata": {},
   "outputs": [],
   "source": [
    "def sigmoid(x):\n",
    "    return 1 / (1+ torch.exp(-x))"
   ]
  },
  {
   "cell_type": "code",
   "execution_count": 108,
   "metadata": {},
   "outputs": [
    {
     "data": {
      "text/plain": [
       "[<matplotlib.lines.Line2D at 0x1eda6759890>]"
      ]
     },
     "execution_count": 108,
     "metadata": {},
     "output_type": "execute_result"
    },
    {
     "data": {
      "image/png": "[encoded data removed]",
      "text/plain": [
       "<Figure size 640x480 with 1 Axes>"
      ]
     },
     "metadata": {},
     "output_type": "display_data"
    }
   ],
   "source": [
    "plt.plot(sigmoid(A))"
   ]
  },
  {
   "cell_type": "code",
   "execution_count": 109,
   "metadata": {},
   "outputs": [
    {
     "data": {
      "text/plain": [
       "[<matplotlib.lines.Line2D at 0x1edaeda3550>]"
      ]
     },
     "execution_count": 109,
     "metadata": {},
     "output_type": "execute_result"
    },
    {
     "data": {
      "image/png": "[encoded data removed]",
      "text/plain": [
       "<Figure size 640x480 with 1 Axes>"
      ]
     },
     "metadata": {},
     "output_type": "display_data"
    }
   ],
   "source": [
    "plt.plot(torch.sigmoid(A))"
   ]
  },
  {
   "cell_type": "code",
   "execution_count": null,
   "metadata": {},
   "outputs": [],
   "source": []
  }
 ],
 "metadata": {
  "kernelspec": {
   "display_name": "Python 3",
   "language": "python",
   "name": "python3"
  },
  "language_info": {
   "codemirror_mode": {
    "name": "ipython",
    "version": 3
   },
   "file_extension": ".py",
   "mimetype": "text/x-python",
   "name": "python",
   "nbconvert_exporter": "python",
   "pygments_lexer": "ipython3",
   "version": "3.11.9"
  }
 },
 "nbformat": 4,
 "nbformat_minor": 2
}
