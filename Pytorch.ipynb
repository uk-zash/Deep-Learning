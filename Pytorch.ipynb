{
  "nbformat": 4,
  "nbformat_minor": 0,
  "metadata": {
    "colab": {
      "provenance": [],
      "gpuType": "T4",
      "include_colab_link": true
    },
    "kernelspec": {
      "name": "python3",
      "display_name": "Python 3"
    },
    "language_info": {
      "name": "python"
    },
    "accelerator": "GPU"
  },
  "cells": [
    {
      "cell_type": "markdown",
      "metadata": {
        "id": "view-in-github",
        "colab_type": "text"
      },
      "source": [
        "<a href=\"https://colab.research.google.com/github/uk-zash/Deep-Learning/blob/main/Pytorch.ipynb\" target=\"_parent\"><img src=\"https://colab.research.google.com/assets/colab-badge.svg\" alt=\"Open In Colab\"/></a>"
      ]
    },
    {
      "cell_type": "code",
      "execution_count": 87,
      "metadata": {
        "colab": {
          "base_uri": "https://localhost:8080/"
        },
        "id": "qu-g-c-Zrw1N",
        "outputId": "8badc9dd-2146-40e6-a415-582aa317eaa6"
      },
      "outputs": [
        {
          "output_type": "stream",
          "name": "stdout",
          "text": [
            "2.4.0+cu121\n"
          ]
        }
      ],
      "source": [
        "import torch\n",
        "import numpy as numpy\n",
        "import pandas as pd\n",
        "import matplotlib.pyplot as plt\n",
        "print(torch.__version__)"
      ]
    },
    {
      "cell_type": "markdown",
      "source": [
        "# Creating Tensors"
      ],
      "metadata": {
        "id": "a2pOALT0sKSC"
      }
    },
    {
      "cell_type": "code",
      "source": [
        "scalar = torch.tensor(7)\n",
        "scalar"
      ],
      "metadata": {
        "colab": {
          "base_uri": "https://localhost:8080/"
        },
        "id": "elzPDQqgr51I",
        "outputId": "deadf759-6b02-4719-b84a-4a63569c7400"
      },
      "execution_count": 88,
      "outputs": [
        {
          "output_type": "execute_result",
          "data": {
            "text/plain": [
              "tensor(7)"
            ]
          },
          "metadata": {},
          "execution_count": 88
        }
      ]
    },
    {
      "cell_type": "code",
      "source": [
        "scalar.ndim"
      ],
      "metadata": {
        "colab": {
          "base_uri": "https://localhost:8080/"
        },
        "id": "RNDiPat0sVav",
        "outputId": "40fee9b4-1d7c-448b-b539-463e0c8d5fc9"
      },
      "execution_count": 89,
      "outputs": [
        {
          "output_type": "execute_result",
          "data": {
            "text/plain": [
              "0"
            ]
          },
          "metadata": {},
          "execution_count": 89
        }
      ]
    },
    {
      "cell_type": "code",
      "source": [
        "scalar.item()"
      ],
      "metadata": {
        "colab": {
          "base_uri": "https://localhost:8080/"
        },
        "id": "I0vmBrH6srJn",
        "outputId": "9513bf6b-02ac-4980-c230-e29d3f723eda"
      },
      "execution_count": 90,
      "outputs": [
        {
          "output_type": "execute_result",
          "data": {
            "text/plain": [
              "7"
            ]
          },
          "metadata": {},
          "execution_count": 90
        }
      ]
    },
    {
      "cell_type": "code",
      "source": [
        "torch.tensor([1 , 2, 3])"
      ],
      "metadata": {
        "colab": {
          "base_uri": "https://localhost:8080/"
        },
        "id": "m3bhkNSUsfdj",
        "outputId": "ec25b0fc-d801-4877-d794-92f2fb4ce911"
      },
      "execution_count": 91,
      "outputs": [
        {
          "output_type": "execute_result",
          "data": {
            "text/plain": [
              "tensor([1, 2, 3])"
            ]
          },
          "metadata": {},
          "execution_count": 91
        }
      ]
    },
    {
      "cell_type": "code",
      "source": [
        "vector = torch.tensor([1,2,4])\n",
        "print(vector.ndim)"
      ],
      "metadata": {
        "colab": {
          "base_uri": "https://localhost:8080/"
        },
        "id": "0LPFj0JnsoAg",
        "outputId": "d078116e-6fad-412a-ac2f-b4c01a5b8812"
      },
      "execution_count": 92,
      "outputs": [
        {
          "output_type": "stream",
          "name": "stdout",
          "text": [
            "1\n"
          ]
        }
      ]
    },
    {
      "cell_type": "code",
      "source": [
        "vector.shape"
      ],
      "metadata": {
        "colab": {
          "base_uri": "https://localhost:8080/"
        },
        "id": "bNpcZAditA-L",
        "outputId": "4e51e41f-8205-4ac5-fc11-e5802dfda313"
      },
      "execution_count": 93,
      "outputs": [
        {
          "output_type": "execute_result",
          "data": {
            "text/plain": [
              "torch.Size([3])"
            ]
          },
          "metadata": {},
          "execution_count": 93
        }
      ]
    },
    {
      "cell_type": "code",
      "source": [
        "matrix = torch.tensor([[1,2,3] ,\n",
        "                       [3,2,1]])\n",
        "print(matrix.ndim)"
      ],
      "metadata": {
        "colab": {
          "base_uri": "https://localhost:8080/"
        },
        "id": "ZjSgkQBmtEQz",
        "outputId": "0b791071-02ae-43b7-c8c7-1b426638a36d"
      },
      "execution_count": 94,
      "outputs": [
        {
          "output_type": "stream",
          "name": "stdout",
          "text": [
            "2\n"
          ]
        }
      ]
    },
    {
      "cell_type": "code",
      "source": [
        "matrix.shape"
      ],
      "metadata": {
        "colab": {
          "base_uri": "https://localhost:8080/"
        },
        "id": "mMmYg4w9tMo3",
        "outputId": "1934453f-35ed-4672-e4da-f1c7c9e5cd80"
      },
      "execution_count": 95,
      "outputs": [
        {
          "output_type": "execute_result",
          "data": {
            "text/plain": [
              "torch.Size([2, 3])"
            ]
          },
          "metadata": {},
          "execution_count": 95
        }
      ]
    },
    {
      "cell_type": "code",
      "source": [
        "tensor = torch.tensor([[[1 , 2] ,\n",
        "                        [1 , 2],\n",
        "                        [1 , 3]]])\n",
        "\n",
        "print(tensor.ndim)"
      ],
      "metadata": {
        "colab": {
          "base_uri": "https://localhost:8080/"
        },
        "id": "G_FJA3L7tORQ",
        "outputId": "b2418177-d639-440f-9f96-9a747e52d87f"
      },
      "execution_count": 96,
      "outputs": [
        {
          "output_type": "stream",
          "name": "stdout",
          "text": [
            "3\n"
          ]
        }
      ]
    },
    {
      "cell_type": "code",
      "source": [
        "tensor.shape"
      ],
      "metadata": {
        "colab": {
          "base_uri": "https://localhost:8080/"
        },
        "id": "Lg9CTO8Mtbvn",
        "outputId": "64b4c524-cab9-47f0-afef-0d8204e1a7f6"
      },
      "execution_count": 97,
      "outputs": [
        {
          "output_type": "execute_result",
          "data": {
            "text/plain": [
              "torch.Size([1, 3, 2])"
            ]
          },
          "metadata": {},
          "execution_count": 97
        }
      ]
    },
    {
      "cell_type": "markdown",
      "source": [
        "# Random Tensors\n",
        "\n",
        "Random tensors are importand because the way many neural networks learn is that they start with tenosrs full of random numbers then adjust those ranodm numbers to better represent the data"
      ],
      "metadata": {
        "id": "htrgnWNruHvM"
      }
    },
    {
      "cell_type": "code",
      "source": [
        "random_tensor = torch.rand(2 , 3 ,4)\n",
        "random_tensor"
      ],
      "metadata": {
        "colab": {
          "base_uri": "https://localhost:8080/"
        },
        "id": "NnIssPHMtdJS",
        "outputId": "a507bea4-c8f5-4f3c-a764-71480a29d8ac"
      },
      "execution_count": 98,
      "outputs": [
        {
          "output_type": "execute_result",
          "data": {
            "text/plain": [
              "tensor([[[0.9162, 0.1961, 0.9768, 0.1987],\n",
              "         [0.0681, 0.4567, 0.7980, 0.6006],\n",
              "         [0.5850, 0.1066, 0.8871, 0.2191]],\n",
              "\n",
              "        [[0.1188, 0.1484, 0.4418, 0.1314],\n",
              "         [0.5577, 0.4621, 0.4161, 0.7095],\n",
              "         [0.1050, 0.5661, 0.7786, 0.6404]]])"
            ]
          },
          "metadata": {},
          "execution_count": 98
        }
      ]
    },
    {
      "cell_type": "code",
      "source": [
        "random_tensor.shape"
      ],
      "metadata": {
        "colab": {
          "base_uri": "https://localhost:8080/"
        },
        "id": "Ukobcopdube6",
        "outputId": "b4a559e6-46b0-4ca9-8c6c-471f1c87e368"
      },
      "execution_count": 99,
      "outputs": [
        {
          "output_type": "execute_result",
          "data": {
            "text/plain": [
              "torch.Size([2, 3, 4])"
            ]
          },
          "metadata": {},
          "execution_count": 99
        }
      ]
    },
    {
      "cell_type": "markdown",
      "source": [
        "For Image"
      ],
      "metadata": {
        "id": "3lXkkdOcuyGT"
      }
    },
    {
      "cell_type": "code",
      "source": [
        "random_image = torch.rand(size = (224 , 224 , 3))\n",
        "\n",
        "random_image.shape , random_image.ndim"
      ],
      "metadata": {
        "colab": {
          "base_uri": "https://localhost:8080/"
        },
        "id": "39a0OJ9BugGK",
        "outputId": "e91e846e-7f2f-4010-c343-e13565bf1f6e"
      },
      "execution_count": 100,
      "outputs": [
        {
          "output_type": "execute_result",
          "data": {
            "text/plain": [
              "(torch.Size([224, 224, 3]), 3)"
            ]
          },
          "metadata": {},
          "execution_count": 100
        }
      ]
    },
    {
      "cell_type": "markdown",
      "source": [
        "# Range\n"
      ],
      "metadata": {
        "id": "7MdUPjPjvPVd"
      }
    },
    {
      "cell_type": "code",
      "source": [
        "one_to_ten = torch.arange(0 , 10)"
      ],
      "metadata": {
        "id": "qP-S2B8hu6W5"
      },
      "execution_count": 101,
      "outputs": []
    },
    {
      "cell_type": "code",
      "source": [
        "torch.zeros_like(input = one_to_ten)"
      ],
      "metadata": {
        "colab": {
          "base_uri": "https://localhost:8080/"
        },
        "id": "IoCLeXe4vSBs",
        "outputId": "872e9ee2-b37a-489a-ab6a-5eb34046e125"
      },
      "execution_count": 102,
      "outputs": [
        {
          "output_type": "execute_result",
          "data": {
            "text/plain": [
              "tensor([0, 0, 0, 0, 0, 0, 0, 0, 0, 0])"
            ]
          },
          "metadata": {},
          "execution_count": 102
        }
      ]
    },
    {
      "cell_type": "markdown",
      "source": [
        "# Data Type"
      ],
      "metadata": {
        "id": "LgKjC1yovvF3"
      }
    },
    {
      "cell_type": "code",
      "source": [
        "# float_32 = torch.tensor([2 , 6 , 9] , dtype =torch.float16,\n",
        "#                         device = \"cuda\",\n",
        "#                         requires_grad = False)\n",
        "# float_32"
      ],
      "metadata": {
        "id": "QiuvR0b9vdot"
      },
      "execution_count": 103,
      "outputs": []
    },
    {
      "cell_type": "code",
      "source": [
        "# float_32.device"
      ],
      "metadata": {
        "id": "GuuNB27Dv1K1"
      },
      "execution_count": 104,
      "outputs": []
    },
    {
      "cell_type": "code",
      "source": [
        "# A = torch.tensor([[1 , 2 , 4],\n",
        "#                   [1 , 2 , 4]])\n",
        "\n",
        "# B = torch.tensor([[1 , 2, 4],\n",
        "#                   [1 , 2 ,4 ]])\n",
        "\n",
        "# torch.matmul(A , B.T)"
      ],
      "metadata": {
        "id": "zKhjJZqezK6J"
      },
      "execution_count": 105,
      "outputs": []
    },
    {
      "cell_type": "code",
      "source": [
        "# x = torch.tensor([1 , 4 ,23 , 41])\n",
        "\n",
        "# torch.min(x) , torch.max(x)"
      ],
      "metadata": {
        "id": "v4eo3M_n1A7P"
      },
      "execution_count": 106,
      "outputs": []
    },
    {
      "cell_type": "code",
      "source": [
        "# torch.mean(x.type(torch.float32))"
      ],
      "metadata": {
        "id": "Kmwy7sWz1f1v"
      },
      "execution_count": 107,
      "outputs": []
    },
    {
      "cell_type": "code",
      "source": [
        "# x.argmin()"
      ],
      "metadata": {
        "id": "8gwoxHYx1jTT"
      },
      "execution_count": 108,
      "outputs": []
    },
    {
      "cell_type": "code",
      "source": [
        "# x.argmax()"
      ],
      "metadata": {
        "id": "Kuu4LUTX2EZL"
      },
      "execution_count": 109,
      "outputs": []
    },
    {
      "cell_type": "markdown",
      "source": [
        "* Reshaping - reshapes an input tensors to a define Shape\n",
        "* View - Return a view of an input tenosr of certain shape but keep the same memory as the original\n",
        "* Stacking - Combine multiple tensors on top of each other\n",
        "* Squeeze - remove all 1 dimension from a tensor\n",
        "* Unsqueeze - add a 1 dimension to a target tensor\n",
        "* Permute - Return a view of the input with dimension permuted in a certain way"
      ],
      "metadata": {
        "id": "tJAIF-UQ2Qrs"
      }
    },
    {
      "cell_type": "code",
      "source": [
        "# y = torch.arange(1. , 11.)\n",
        "# y"
      ],
      "metadata": {
        "id": "burOvaZ22Fbm"
      },
      "execution_count": 110,
      "outputs": []
    },
    {
      "cell_type": "code",
      "source": [
        "# y_reshape = y.reshape(5 , 2)"
      ],
      "metadata": {
        "id": "89rewIM22_y9"
      },
      "execution_count": 111,
      "outputs": []
    },
    {
      "cell_type": "code",
      "source": [
        "# y_reshape"
      ],
      "metadata": {
        "id": "OgjOOCOM3Es_"
      },
      "execution_count": 112,
      "outputs": []
    },
    {
      "cell_type": "code",
      "source": [
        "# x_stacked = torch.stack([y , y , y ,y] , dim = 0)\n",
        "# x_stacked"
      ],
      "metadata": {
        "id": "mTaFShJo3NXP"
      },
      "execution_count": 113,
      "outputs": []
    },
    {
      "cell_type": "code",
      "source": [
        "# squeeze = torch.squeeze(y)"
      ],
      "metadata": {
        "id": "Kb2s_4NO3smM"
      },
      "execution_count": 114,
      "outputs": []
    },
    {
      "cell_type": "code",
      "source": [
        "# squeeze.shape"
      ],
      "metadata": {
        "id": "ATPkQ5ZB3-S4"
      },
      "execution_count": 115,
      "outputs": []
    },
    {
      "cell_type": "code",
      "source": [
        "# torch.unsqueeze(y , dim = 0)"
      ],
      "metadata": {
        "id": "rNfvp5dy3_Rv"
      },
      "execution_count": 116,
      "outputs": []
    },
    {
      "cell_type": "code",
      "source": [
        "# !nvidia-smi"
      ],
      "metadata": {
        "id": "_xK6gpUd4OLp"
      },
      "execution_count": 117,
      "outputs": []
    },
    {
      "cell_type": "code",
      "source": [
        "# torch.cuda.is_available()"
      ],
      "metadata": {
        "id": "k0fmN1C46a8a"
      },
      "execution_count": 118,
      "outputs": []
    },
    {
      "cell_type": "markdown",
      "source": [
        "# Setup\n"
      ],
      "metadata": {
        "id": "zUPYfsgs6t6q"
      }
    },
    {
      "cell_type": "code",
      "source": [
        "device = \"cuda\" if torch.cuda.is_available() else \"cpu\"\n",
        "device"
      ],
      "metadata": {
        "colab": {
          "base_uri": "https://localhost:8080/",
          "height": 36
        },
        "id": "LAnV5FyF6ocX",
        "outputId": "5e0e41f6-b70b-4cec-b1cf-1dd4502bb75f"
      },
      "execution_count": 119,
      "outputs": [
        {
          "output_type": "execute_result",
          "data": {
            "text/plain": [
              "'cpu'"
            ],
            "application/vnd.google.colaboratory.intrinsic+json": {
              "type": "string"
            }
          },
          "metadata": {},
          "execution_count": 119
        }
      ]
    },
    {
      "cell_type": "markdown",
      "source": [
        "#Count devices"
      ],
      "metadata": {
        "id": "HKGPsSVw63-Z"
      }
    },
    {
      "cell_type": "code",
      "source": [
        "torch.cuda.device_count()"
      ],
      "metadata": {
        "colab": {
          "base_uri": "https://localhost:8080/"
        },
        "id": "IQ_EOAX061SA",
        "outputId": "1cd54403-ebcc-4273-d980-ff2de9999d49"
      },
      "execution_count": 120,
      "outputs": [
        {
          "output_type": "execute_result",
          "data": {
            "text/plain": [
              "0"
            ]
          },
          "metadata": {},
          "execution_count": 120
        }
      ]
    },
    {
      "cell_type": "code",
      "source": [
        "# tenosr_on_gpu = y.to(device)\n",
        "# tenosr_on_gpu"
      ],
      "metadata": {
        "id": "vhyAV_PD67YF"
      },
      "execution_count": 121,
      "outputs": []
    },
    {
      "cell_type": "code",
      "source": [
        "# tenosr_on_gpu.cpu().numpy()"
      ],
      "metadata": {
        "id": "rsruP7VN8ADv"
      },
      "execution_count": 122,
      "outputs": []
    },
    {
      "cell_type": "markdown",
      "source": [
        "# Pytorch WorkFlow end to end\n",
        "  -data preparing\n",
        "\n",
        "  -build model\n",
        "\n",
        "  -fitting the model to data - Training\n",
        "\n",
        "  -making predictions and evaluating\n",
        "\n",
        "  -saving the model and load model\n",
        "\n",
        "  -Put All Togeather"
      ],
      "metadata": {
        "id": "yrGINqqlrNKH"
      }
    },
    {
      "cell_type": "code",
      "source": [
        "import torch\n",
        "from torch import nn # nn contains all of Pytorch's building blocks neural network\n",
        "import matplotlib.pyplot as plt\n",
        "\n",
        "\n",
        "torch.__version__\n"
      ],
      "metadata": {
        "id": "BYc3fZHf8JtO",
        "outputId": "b365750c-a036-4756-846d-ee00d82e4189",
        "colab": {
          "base_uri": "https://localhost:8080/",
          "height": 36
        }
      },
      "execution_count": 123,
      "outputs": [
        {
          "output_type": "execute_result",
          "data": {
            "text/plain": [
              "'2.4.0+cu121'"
            ],
            "application/vnd.google.colaboratory.intrinsic+json": {
              "type": "string"
            }
          },
          "metadata": {},
          "execution_count": 123
        }
      ]
    },
    {
      "cell_type": "markdown",
      "source": [
        "# Data Preparing\n",
        "\n",
        "## Machine Learning is a game of two parts\n",
        "  1. Get data into a numercial representation\n",
        "\n",
        "  2. Build a model to learn patterns in that numerical representation"
      ],
      "metadata": {
        "id": "DIdsMnYIsxHJ"
      }
    },
    {
      "cell_type": "markdown",
      "source": [
        "Create known parameters and use linear regression"
      ],
      "metadata": {
        "id": "YaAyJNMiuShb"
      }
    },
    {
      "cell_type": "code",
      "source": [
        "weight = 0.7\n",
        "bias = 0.3\n",
        "\n",
        "start = 0\n",
        "end = 1\n",
        "step = 0.02\n",
        "X = torch.arange(start , end , step).unsqueeze(dim = 1)\n",
        "print(X[:10])\n",
        "y = weight * X + bias\n",
        "\n"
      ],
      "metadata": {
        "id": "zEW0SHans-eE",
        "outputId": "3ce6aef2-e401-4ffe-bd77-775262f0a033",
        "colab": {
          "base_uri": "https://localhost:8080/"
        }
      },
      "execution_count": 124,
      "outputs": [
        {
          "output_type": "stream",
          "name": "stdout",
          "text": [
            "tensor([[0.0000],\n",
            "        [0.0200],\n",
            "        [0.0400],\n",
            "        [0.0600],\n",
            "        [0.0800],\n",
            "        [0.1000],\n",
            "        [0.1200],\n",
            "        [0.1400],\n",
            "        [0.1600],\n",
            "        [0.1800]])\n"
          ]
        }
      ]
    },
    {
      "cell_type": "code",
      "source": [
        "y[:10]"
      ],
      "metadata": {
        "id": "Fszo_P94sGUQ",
        "outputId": "7c4ede1a-cb0f-4a4f-8b35-d9c961bad368",
        "colab": {
          "base_uri": "https://localhost:8080/"
        }
      },
      "execution_count": 125,
      "outputs": [
        {
          "output_type": "execute_result",
          "data": {
            "text/plain": [
              "tensor([[0.3000],\n",
              "        [0.3140],\n",
              "        [0.3280],\n",
              "        [0.3420],\n",
              "        [0.3560],\n",
              "        [0.3700],\n",
              "        [0.3840],\n",
              "        [0.3980],\n",
              "        [0.4120],\n",
              "        [0.4260]])"
            ]
          },
          "metadata": {},
          "execution_count": 125
        }
      ]
    },
    {
      "cell_type": "markdown",
      "source": [
        "## Splitting data into training and test sets\n",
        "\n",
        "  - Training Data (60% to 80%) - Always\n",
        "\n",
        "  - Validation Data  (10% to 20%) - Oftenly\n",
        "\n",
        "  - Test Data  (10% to 20%) - Always\n",
        "\n"
      ],
      "metadata": {
        "id": "Z559sMY6vRlQ"
      }
    },
    {
      "cell_type": "code",
      "source": [
        "training_split = int(0.8 * len(X))\n",
        "X_train , y_train = X[: training_split] , y[:training_split]\n",
        "X_test , y_test = X[training_split :] , y[training_split :]\n",
        "\n",
        "len(X_train) , len(y_train)  , len(X_test) , len(y_test)"
      ],
      "metadata": {
        "id": "18suNRaWu-c2",
        "outputId": "cc4831a1-c03c-41c0-f9cc-9ba6b9def999",
        "colab": {
          "base_uri": "https://localhost:8080/"
        }
      },
      "execution_count": 126,
      "outputs": [
        {
          "output_type": "execute_result",
          "data": {
            "text/plain": [
              "(40, 40, 10, 10)"
            ]
          },
          "metadata": {},
          "execution_count": 126
        }
      ]
    },
    {
      "cell_type": "markdown",
      "source": [
        "## Visualise"
      ],
      "metadata": {
        "id": "g1PjI04s5j6N"
      }
    },
    {
      "cell_type": "code",
      "source": [
        "def plot_prediction(train_data = X_train , train_labels = y_train ,\n",
        "                    test_data = X_test ,\n",
        "                    test_labels = y_test ,\n",
        "                    predictions = None):\n",
        "  plt.figure(figsize = (10 , 7))\n",
        "\n",
        "  plt.scatter(train_data , train_labels , c = \"b\" , s = 4 , label = \"TrainingData\")\n",
        "  plt.scatter(test_data , test_labels , c = \"g\" , s = 4 , label= \"TestData\")\n",
        "\n",
        "  if predictions is not None:\n",
        "    plt.scatter(test_data , predictions , c = \"r\" , s = 4 , label = \"Predictions\")\n",
        "  plt.legend(prop = {\"size\" : 14})"
      ],
      "metadata": {
        "id": "7bXE6ijKwORg"
      },
      "execution_count": 127,
      "outputs": []
    },
    {
      "cell_type": "code",
      "source": [
        "plot_prediction()"
      ],
      "metadata": {
        "id": "bCj3ojTD6XoR",
        "outputId": "6b4fe7f7-6fb9-43c0-c35a-de8e1f893aaf",
        "colab": {
          "base_uri": "https://localhost:8080/",
          "height": 599
        }
      },
      "execution_count": 128,
      "outputs": [
        {
          "output_type": "display_data",
          "data": {
            "text/plain": [
              "<Figure size 1000x700 with 1 Axes>"
            ],
            "image/png": "[encoded data removed]"
          },
          "metadata": {}
        }
      ]
    },
    {
      "cell_type": "markdown",
      "source": [
        "## Build Model"
      ],
      "metadata": {
        "id": "EJxEGH2_6wwo"
      }
    },
    {
      "cell_type": "code",
      "source": [
        "from torch import nn\n",
        "class LinearRegressionModel(nn.Module):  #Almost everything is pytorch inherits from nn.module\n",
        "  def __init__(self):\n",
        "    super().__init__()\n",
        "    self.weights = nn.Parameter(torch.rand(1 , requires_grad=True,\n",
        "                                           dtype = torch.float))\n",
        "    self.bias = nn.Parameter(torch.rand(1 , requires_grad = True ,\n",
        "                                        dtype = torch.float))\n",
        "\n",
        "  def forward( self , x:torch.Tensor) -> torch.Tensor:\n",
        "    return self.weights * x + self.bias\n",
        "\n",
        "\n"
      ],
      "metadata": {
        "id": "5-dBo1rL6a0L"
      },
      "execution_count": 129,
      "outputs": []
    },
    {
      "cell_type": "markdown",
      "source": [
        "### Pytorch model Builiding Essentials\n",
        "\n",
        "* torch.nn - contains all of the building for computational graphs\n",
        "* torch.nn.Paramter - what parameters should model try and learn\n",
        "\n",
        "* torch.nn.Module - The base class for all neural Network modules\n",
        "\n",
        "* torch.optim - this is wehre optimizer  in pytorch live\n",
        "\n",
        "* def forward() - All nn.Module subclass require you to overwrite forward(), this method defines what happens in forward computation\n",
        "\n"
      ],
      "metadata": {
        "id": "VXKVXGOM-7xY"
      }
    },
    {
      "cell_type": "code",
      "source": [
        "torch.manual_seed(42)\n",
        "\n",
        "model0 = LinearRegressionModel()\n",
        "list(model0.parameters())"
      ],
      "metadata": {
        "id": "NpSu538YAazJ",
        "outputId": "06d3731b-980f-4a3d-cfd2-b583146e987c",
        "colab": {
          "base_uri": "https://localhost:8080/"
        }
      },
      "execution_count": 132,
      "outputs": [
        {
          "output_type": "execute_result",
          "data": {
            "text/plain": [
              "[Parameter containing:\n",
              " tensor([0.8823], requires_grad=True),\n",
              " Parameter containing:\n",
              " tensor([0.9150], requires_grad=True)]"
            ]
          },
          "metadata": {},
          "execution_count": 132
        }
      ]
    },
    {
      "cell_type": "code",
      "source": [
        "model0.state_dict()"
      ],
      "metadata": {
        "id": "lknNw2cIBDUF",
        "outputId": "fb197818-8440-4d12-85b7-23017f312937",
        "colab": {
          "base_uri": "https://localhost:8080/"
        }
      },
      "execution_count": 133,
      "outputs": [
        {
          "output_type": "execute_result",
          "data": {
            "text/plain": [
              "OrderedDict([('weights', tensor([0.8823])), ('bias', tensor([0.9150]))])"
            ]
          },
          "metadata": {},
          "execution_count": 133
        }
      ]
    },
    {
      "cell_type": "code",
      "source": [
        "inputs = torch.tensor([0.3 , 0.5 ,0.6] , dtype = torch.float)\n",
        "\n",
        "model0.forward(inputs)"
      ],
      "metadata": {
        "id": "-4XHXfJNCJm7",
        "outputId": "f30abe26-8370-4b22-c06c-ad758b426326",
        "colab": {
          "base_uri": "https://localhost:8080/"
        }
      },
      "execution_count": 136,
      "outputs": [
        {
          "output_type": "execute_result",
          "data": {
            "text/plain": [
              "tensor([1.1797, 1.3561, 1.4444], grad_fn=<AddBackward0>)"
            ]
          },
          "metadata": {},
          "execution_count": 136
        }
      ]
    },
    {
      "cell_type": "code",
      "source": [
        "with torch.inference_mode():\n",
        "  y_preds = model0(X_test)\n",
        "\n",
        "# with torch.no_grad():\n",
        "\n",
        "y_preds"
      ],
      "metadata": {
        "id": "v_wNfVLTCjJW",
        "outputId": "bad1e00b-1138-4987-98c0-f8f5612e0d6b",
        "colab": {
          "base_uri": "https://localhost:8080/"
        }
      },
      "execution_count": 139,
      "outputs": [
        {
          "output_type": "execute_result",
          "data": {
            "text/plain": [
              "tensor([[1.6208],\n",
              "        [1.6385],\n",
              "        [1.6561],\n",
              "        [1.6738],\n",
              "        [1.6914],\n",
              "        [1.7090],\n",
              "        [1.7267],\n",
              "        [1.7443],\n",
              "        [1.7620],\n",
              "        [1.7796]])"
            ]
          },
          "metadata": {},
          "execution_count": 139
        }
      ]
    },
    {
      "cell_type": "code",
      "source": [
        "plot_prediction(predictions = y_preds)"
      ],
      "metadata": {
        "id": "qf1jlIXTDCdl",
        "outputId": "97e346a5-4031-4e02-ee95-eaf9cf9cf034",
        "colab": {
          "base_uri": "https://localhost:8080/",
          "height": 599
        }
      },
      "execution_count": 142,
      "outputs": [
        {
          "output_type": "display_data",
          "data": {
            "text/plain": [
              "<Figure size 1000x700 with 1 Axes>"
            ],
            "image/png": "[encoded data removed]"
          },
          "metadata": {}
        }
      ]
    },
    {
      "cell_type": "code",
      "source": [
        "## Loss Function\n",
        "\n",
        "loss_fn = nn.L1Loss()\n",
        "\n",
        "loss = loss_fn(y_preds , y_test)\n",
        "loss"
      ],
      "metadata": {
        "id": "cWlhgus2DljC",
        "outputId": "0429f28a-37b1-4c15-d998-3bf441a7971f",
        "colab": {
          "base_uri": "https://localhost:8080/"
        }
      },
      "execution_count": 143,
      "outputs": [
        {
          "output_type": "execute_result",
          "data": {
            "text/plain": [
              "tensor(0.7772)"
            ]
          },
          "metadata": {},
          "execution_count": 143
        }
      ]
    },
    {
      "cell_type": "code",
      "source": [
        "## Optimizer\n",
        "optimizer = torch.optim.SGD(model0.parameters() , lr = 0.01)\n"
      ],
      "metadata": {
        "id": "e5cV1cYkFctf"
      },
      "execution_count": null,
      "outputs": []
    }
  ]
}